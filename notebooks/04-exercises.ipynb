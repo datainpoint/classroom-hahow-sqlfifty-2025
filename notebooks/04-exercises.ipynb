{
 "cells": [
  {
   "cell_type": "markdown",
   "metadata": {
    "deletable": false
   },
   "source": [
    "# SQL 的五十道練習\n",
    "\n",
    "> 衍生計算欄位：函數\n",
    "\n",
    "[郭耀仁](https://hahow.in/@tonykuoyj) |  <yaojenkuo@datainpoint.com>"
   ]
  },
  {
   "cell_type": "markdown",
   "metadata": {
    "deletable": false
   },
   "source": [
    "## 練習題指引\n",
    "\n",
    "- 開始寫作之前，可以先按上方「Copy to Drive」按鈕將筆記本複製到自己的 Google 雲端硬碟。\n",
    "- 練習題共分為三種：是非題、單選題以及程式題。\n",
    "- 是非題：預設答案為 `None`，若覺得敘述**不正確**，就將 `None` 改寫為 `0`，覺得敘述**正確**，就將 `None` 改寫為 `1`\n",
    "- 單選題：覺得第一個選項**正確**，就將 `None` 改寫為 `1`，覺得第二個選項**正確**，就將 `None` 改寫為 `2`，覺得第三個選項**正確**，就將 `None` 改寫 `3`，覺得第四個選項**正確**，就將 `None` 改寫 `4`\n",
    "- 程式題：\n",
    "    - 在 SQL 語法起點與 SQL 語法終點這兩列註解之間撰寫能夠得到預期結果的 SQL。\n",
    "    - 我們已經將兩個學習資料庫載入環境，SQL 可以直接指定兩個學習資料庫中的資料表，不需要額外指定資料庫。\n",
    "    - 可以先在自己電腦的 SQLiteStudio 或者 DB Browser for SQLite 寫出跟預期結果相同的 SQL 後再複製貼上到練習題。\n",
    "- 執行測試的方式為點選右上角 Connect，然後點選上方選單的 Runtime -> Restart and run all -> Yes -> Run anyway。\n",
    "- 移動到 Google Colab 的最後一個儲存格看測試結果。"
   ]
  },
  {
   "cell_type": "code",
   "execution_count": null,
   "metadata": {},
   "outputs": [],
   "source": [
    "!wget -N https://github.com/datainpoint/classroom-hahow-sqlfifty-2025/raw/refs/heads/main/covid19/covid19.db\n",
    "!wget -N https://github.com/datainpoint/classroom-hahow-sqlfifty-2025/raw/refs/heads/main/imdb/imdb.db"
   ]
  },
  {
   "cell_type": "code",
   "execution_count": null,
   "metadata": {
    "deletable": false
   },
   "outputs": [],
   "source": [
    "import sqlite3\n",
    "import unittest\n",
    "import os\n",
    "import pandas as pd\n",
    "conn = sqlite3.connect('imdb.db')\n",
    "conn.execute(\"\"\"ATTACH 'covid19.db' AS covid19\"\"\")"
   ]
  },
  {
   "cell_type": "markdown",
   "metadata": {},
   "source": [
    "## 0401（是非題）在 SQL 中使用函數時一定要搭配引數（輸入或參數）才能運行。"
   ]
  },
  {
   "cell_type": "code",
   "execution_count": null,
   "metadata": {},
   "outputs": [],
   "source": [
    "answer_0401 = None"
   ]
  },
  {
   "cell_type": "markdown",
   "metadata": {},
   "source": [
    "## 0402（單選題）下列有關函數的敘述何者正確？\n",
    "\n",
    "1. 聚合函數作用在「水平」方向，每個觀測值對應一個輸出。\n",
    "2. 通用函數作用在「垂直」方向，整欄變數對應一個輸出。\n",
    "3. 我們應該把所有的函數名稱與用法都記起來。\n",
    "4. 以 SQLite 學習函數的知識也能擴展應用至其他不同的資料庫管理系統。"
   ]
  },
  {
   "cell_type": "code",
   "execution_count": null,
   "metadata": {},
   "outputs": [],
   "source": [
    "answer_0402 = None"
   ]
  },
  {
   "cell_type": "markdown",
   "metadata": {},
   "source": [
    "## 0403（程式題）從 `imdb` 資料庫的 `movies` 資料表計算最高的 `rating` 與最低的 `rating`，參考下列預期的查詢結果。\n",
    "\n",
    "- 預期輸出：(1, 2) 的查詢結果。\n",
    "\n",
    "```\n",
    "max_rating\tmin_rating\n",
    "9.3\t8\n",
    "```"
   ]
  },
  {
   "cell_type": "code",
   "execution_count": null,
   "metadata": {},
   "outputs": [],
   "source": [
    "answer_0403 =\\\n",
    "\"\"\"\n",
    "-- SQL 語法起點\n",
    "\n",
    "-- SQL 語法終點\n",
    "\"\"\""
   ]
  },
  {
   "cell_type": "markdown",
   "metadata": {},
   "source": [
    "## 0404（程式題）從 `imdb` 資料庫的 `release_info` 資料表計算 `released_on` 最早的年份與最晚的年份，參考下列預期的查詢結果。\n",
    "\n",
    "- 預期輸出：(1, 2) 的查詢結果。\n",
    "\n",
    "```\n",
    "min_release_year\tmax_release_year\n",
    "1921\t2025\n",
    "```"
   ]
  },
  {
   "cell_type": "code",
   "execution_count": null,
   "metadata": {},
   "outputs": [],
   "source": [
    "answer_0404 =\\\n",
    "\"\"\"\n",
    "-- SQL 語法起點\n",
    "\n",
    "-- SQL 語法終點\n",
    "\"\"\""
   ]
  },
  {
   "cell_type": "markdown",
   "metadata": {},
   "source": [
    "## 0405（程式題）從 `imdb` 資料庫的 `movies` 資料表計算平均 `rating` 與平均 `runtime`，並且以 `ROUND()` 函數四捨五入到小數點第二位，參考下列預期的查詢結果。\n",
    "\n",
    "- 預期輸出：(1, 2) 的查詢結果。\n",
    "\n",
    "```\n",
    "avg_rating\tavg_runtime\n",
    "8.31\t130.59\n",
    "```"
   ]
  },
  {
   "cell_type": "code",
   "execution_count": null,
   "metadata": {},
   "outputs": [],
   "source": [
    "answer_0405 =\\\n",
    "\"\"\"\n",
    "-- SQL 語法起點\n",
    "\n",
    "-- SQL 語法終點\n",
    "\"\"\""
   ]
  },
  {
   "cell_type": "markdown",
   "metadata": {},
   "source": [
    "## 0406（程式題）從 `covid19` 資料庫的 `confirmed` 資料表計算 `updated_on` 年月（`YYYY-MM`）獨一值，參考下列預期的查詢結果。\n",
    "\n",
    "- 預期輸出：(39, 1) 的查詢結果。\n",
    "\n",
    "```\n",
    "distinct_year_month\n",
    "2020-01\n",
    "2020-02\n",
    "2020-03\n",
    "2020-04\n",
    "2020-05\n",
    "2020-06\n",
    "2020-07\n",
    "2020-08\n",
    "2020-09\n",
    "2020-10\n",
    "2020-11\n",
    "2020-12\n",
    "2021-01\n",
    "2021-02\n",
    "2021-03\n",
    "2021-04\n",
    "2021-05\n",
    "2021-06\n",
    "2021-07\n",
    "2021-08\n",
    "2021-09\n",
    "2021-10\n",
    "2021-11\n",
    "2021-12\n",
    "2022-01\n",
    "2022-02\n",
    "2022-03\n",
    "2022-04\n",
    "2022-05\n",
    "2022-06\n",
    "2022-07\n",
    "2022-08\n",
    "2022-09\n",
    "2022-10\n",
    "2022-11\n",
    "2022-12\n",
    "2023-01\n",
    "2023-02\n",
    "2023-03\n",
    "```"
   ]
  },
  {
   "cell_type": "code",
   "execution_count": null,
   "metadata": {},
   "outputs": [],
   "source": [
    "answer_0406 =\\\n",
    "\"\"\"\n",
    "-- SQL 語法起點\n",
    "\n",
    "-- SQL 語法終點\n",
    "\"\"\""
   ]
  },
  {
   "cell_type": "markdown",
   "metadata": {},
   "source": [
    "## 0407（程式題）從 `covid19` 資料庫的 `confirmed` 資料表計算 `updated_on` 的最小值與最大值，參考下列預期的查詢結果。\n",
    "\n",
    "- 預期輸出：(1, 2) 的查詢結果。\n",
    "\n",
    "```\n",
    "min_updated_on\tmax_updated_on\n",
    "2020-01-22\t2023-03-09\n",
    "```"
   ]
  },
  {
   "cell_type": "code",
   "execution_count": null,
   "metadata": {},
   "outputs": [],
   "source": [
    "answer_0407 =\\\n",
    "\"\"\"\n",
    "-- SQL 語法起點\n",
    "\n",
    "-- SQL 語法終點\n",
    "\"\"\""
   ]
  },
  {
   "cell_type": "markdown",
   "metadata": {
    "deletable": false
   },
   "source": [
    "## 執行測試！\n",
    "\n",
    "點選右上角 Connect，然後點選上方選單的 Runtime -> Restart and run all -> Yes -> Run anyway。"
   ]
  },
  {
   "cell_type": "code",
   "execution_count": null,
   "metadata": {
    "deletable": false
   },
   "outputs": [],
   "source": [
    "class TestChapter04(unittest.TestCase):\n",
    "    def test_0401(self):\n",
    "        self.assertEqual(answer_0401, 0)\n",
    "    def test_0402(self):\n",
    "        self.assertEqual(answer_0402, 4)\n",
    "    def test_0403(self):\n",
    "        df = pd.read_sql(answer_0403, conn)\n",
    "        self.assertEqual(df.shape, (1, 2))\n",
    "        self.assertGreaterEqual(9.3, df.iloc[0, 0])\n",
    "        self.assertGreaterEqual(8, df.iloc[0, 1])\n",
    "    def test_0404(self):\n",
    "        df = pd.read_sql(answer_0404, conn)\n",
    "        self.assertEqual(df.shape, (1, 2))\n",
    "        self.assertIn(\"1921\", df.iloc[0, :].astype(str).values)\n",
    "        self.assertIn(\"2025\", df.iloc[0, :].astype(str).values)\n",
    "    def test_0405(self):\n",
    "        df = pd.read_sql(answer_0405, conn)\n",
    "        self.assertEqual(df.shape, (1, 2))\n",
    "        self.assertIn(\"8.31\", df.iloc[0, :].astype(str).values)\n",
    "        self.assertIn(\"130.59\", df.iloc[0, :].astype(str).values)\n",
    "    def test_0406(self):\n",
    "        df = pd.read_sql(answer_0406, conn)\n",
    "        self.assertEqual(df.shape, (39, 1))\n",
    "        self.assertIn(\"2020-01\", df.iloc[:, 0].astype(str).values)\n",
    "        self.assertIn(\"2023-03\", df.iloc[:, 0].astype(str).values)\n",
    "    def test_0407(self):\n",
    "        df = pd.read_sql(answer_0407, conn)\n",
    "        self.assertEqual(df.shape, (1, 2))\n",
    "        self.assertIn(\"2020-01-22\", df.iloc[0, :].astype(str).values)\n",
    "        self.assertIn(\"2023-03-09\", df.iloc[0, :].astype(str).values)\n",
    "\n",
    "suite = unittest.TestLoader().loadTestsFromTestCase(TestChapter04)\n",
    "runner = unittest.TextTestRunner(verbosity=2)\n",
    "test_results = runner.run(suite)\n",
    "number_of_failures = len(test_results.failures)\n",
    "number_of_errors = len(test_results.errors)\n",
    "number_of_test_runs = test_results.testsRun\n",
    "number_of_successes = number_of_test_runs - (number_of_failures + number_of_errors)\n",
    "chapter_index = 4\n",
    "chapter_name = \"衍生計算欄位：函數\""
   ]
  },
  {
   "cell_type": "code",
   "execution_count": null,
   "metadata": {
    "deletable": false
   },
   "outputs": [],
   "source": [
    "print(f\"您在第 {chapter_index:02} 章「{chapter_name}」的 {number_of_test_runs} 道練習中答對了 {number_of_successes} 題。\")"
   ]
  }
 ],
 "metadata": {
  "celltoolbar": "Edit Metadata",
  "kernelspec": {
   "display_name": "Python 3 (ipykernel)",
   "language": "python",
   "name": "python3"
  },
  "language_info": {
   "codemirror_mode": {
    "name": "ipython",
    "version": 3
   },
   "file_extension": ".py",
   "mimetype": "text/x-python",
   "name": "python",
   "nbconvert_exporter": "python",
   "pygments_lexer": "ipython3",
   "version": "3.12.7"
  }
 },
 "nbformat": 4,
 "nbformat_minor": 4
}
