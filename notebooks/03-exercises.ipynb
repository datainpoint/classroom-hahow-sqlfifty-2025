{
 "cells": [
  {
   "cell_type": "markdown",
   "metadata": {
    "deletable": false
   },
   "source": [
    "# SQL 的五十道練習\n",
    "\n",
    "> 衍生計算欄位：運算符\n",
    "\n",
    "[郭耀仁](https://hahow.in/@tonykuoyj) |  <yaojenkuo@datainpoint.com>"
   ]
  },
  {
   "cell_type": "markdown",
   "metadata": {
    "deletable": false
   },
   "source": [
    "## 練習題指引\n",
    "\n",
    "- 開始寫作之前，可以先按上方「Copy to Drive」按鈕將筆記本複製到自己的 Google 雲端硬碟。\n",
    "- 練習題共分為三種：是非題、單選題以及程式題。\n",
    "- 是非題：預設答案為 `None`，若覺得敘述**不正確**，就將 `None` 改寫為 `0`，覺得敘述**正確**，就將 `None` 改寫為 `1`\n",
    "- 單選題：覺得第一個選項**正確**，就將 `None` 改寫為 `1`，覺得第二個選項**正確**，就將 `None` 改寫為 `2`，覺得第三個選項**正確**，就將 `None` 改寫 `3`，覺得第四個選項**正確**，就將 `None` 改寫 `4`\n",
    "- 程式題：\n",
    "    - 在 SQL 語法起點與 SQL 語法終點這兩列註解之間撰寫能夠得到預期結果的 SQL。\n",
    "    - 我們已經將兩個學習資料庫載入環境，SQL 可以直接指定兩個學習資料庫中的資料表，不需要額外指定資料庫。\n",
    "    - 可以先在自己電腦的 SQLiteStudio 或者 DB Browser for SQLite 寫出跟預期結果相同的 SQL 後再複製貼上到練習題。\n",
    "- 執行測試的方式為點選右上角 Connect，然後點選上方選單的 Runtime -> Restart and run all -> Yes -> Run anyway。\n",
    "- 移動到 Google Colab 的最後一個儲存格看測試結果。"
   ]
  },
  {
   "cell_type": "code",
   "execution_count": null,
   "metadata": {},
   "outputs": [],
   "source": [
    "!wget -N https://github.com/datainpoint/classroom-hahow-sqlfifty-2025/raw/refs/heads/main/covid19/covid19.db\n",
    "!wget -N https://github.com/datainpoint/classroom-hahow-sqlfifty-2025/raw/refs/heads/main/imdb/imdb.db"
   ]
  },
  {
   "cell_type": "code",
   "execution_count": null,
   "metadata": {
    "deletable": false
   },
   "outputs": [],
   "source": [
    "import sqlite3\n",
    "import unittest\n",
    "import os\n",
    "import pandas as pd\n",
    "conn = sqlite3.connect('imdb.db')\n",
    "conn.execute(\"\"\"ATTACH 'covid19.db' AS covid19\"\"\")"
   ]
  },
  {
   "cell_type": "markdown",
   "metadata": {},
   "source": [
    "## 0301（是非題）在 SQL 中 `SELECT` 保留字一定要搭配 `FROM` 保留字使用。"
   ]
  },
  {
   "cell_type": "code",
   "execution_count": null,
   "metadata": {},
   "outputs": [],
   "source": [
    "answer_0301 = None"
   ]
  },
  {
   "cell_type": "markdown",
   "metadata": {},
   "source": [
    "## 0302（單選題）數值計算 `SELECT 314/100;` 的結果為何？\n",
    "\n",
    "1. `3.14`\n",
    "2. `14`\n",
    "3. `3`\n",
    "4. `157/50`"
   ]
  },
  {
   "cell_type": "code",
   "execution_count": null,
   "metadata": {},
   "outputs": [],
   "source": [
    "answer_0302 = None"
   ]
  },
  {
   "cell_type": "markdown",
   "metadata": {},
   "source": [
    "## 0303（程式題）從 `imdb` 資料庫的 `movies` 資料表衍生計算 `runtime_text` 顯示前 10 列觀測值，參考下列預期的查詢結果。\n",
    "\n",
    "- 預期輸出：(10, 2) 的查詢結果。\n",
    "\n",
    "```\n",
    "runtime\truntime_text\n",
    "142\t2小時22分鐘\n",
    "175\t2小時55分鐘\n",
    "152\t2小時32分鐘\n",
    "202\t3小時22分鐘\n",
    "96\t1小時36分鐘\n",
    "201\t3小時21分鐘\n",
    "195\t3小時15分鐘\n",
    "154\t2小時34分鐘\n",
    "178\t2小時58分鐘\n",
    "178\t2小時58分鐘\n",
    "```"
   ]
  },
  {
   "cell_type": "code",
   "execution_count": null,
   "metadata": {},
   "outputs": [],
   "source": [
    "answer_0303 =\\\n",
    "\"\"\"\n",
    "-- SQL 語法起點\n",
    "\n",
    "-- SQL 語法終點\n",
    "\"\"\""
   ]
  },
  {
   "cell_type": "markdown",
   "metadata": {},
   "source": [
    "## 0304（程式題）從 `covid19` 資料庫的 `geographics` 資料表衍生計算 `longitude_latitude` 顯示前 10 列觀測值，參考下列預期的查詢結果。\n",
    "\n",
    "- 預期輸出：(10, 1) 的查詢結果。\n",
    "\n",
    "```\n",
    "longitude_latitude\n",
    "(1.5218,42.5063)\n",
    "(53.847818,23.424076)\n",
    "(67.709953,33.93911)\n",
    "(-61.7964,17.0608)\n",
    "(-63.0686,18.2206)\n",
    "(20.1683,41.1533)\n",
    "(45.0382,40.0691)\n",
    "(17.8739,-11.2027)\n",
    "(23.347,-71.9499)\n",
    "(-63.6167,-38.4161)\n",
    "```"
   ]
  },
  {
   "cell_type": "code",
   "execution_count": null,
   "metadata": {},
   "outputs": [],
   "source": [
    "answer_0304 =\\\n",
    "\"\"\"\n",
    "-- SQL 語法起點\n",
    "\n",
    "-- SQL 語法終點\n",
    "\"\"\""
   ]
  },
  {
   "cell_type": "markdown",
   "metadata": {},
   "source": [
    "## 0305（程式題）從 `covid19` 資料庫的 `geographics` 資料表衍生計算 `population_in_thousand`，將人口數以「千人」為單位，顯示前 10 列觀測值，參考下列預期的查詢結果。\n",
    "\n",
    "- 預期輸出：(10, 2) 的查詢結果。\n",
    "\n",
    "```\n",
    "population\tpopulation_in_thousand\n",
    "77265\t77千人\n",
    "9890400\t9890千人\n",
    "38928341\t38928千人\n",
    "97928\t97千人\n",
    "15002\t15千人\n",
    "2877800\t2877千人\n",
    "2963234\t2963千人\n",
    "32866268\t32866千人\n",
    "0\t0千人\n",
    "45195777\t45195千人\n",
    "```"
   ]
  },
  {
   "cell_type": "code",
   "execution_count": null,
   "metadata": {},
   "outputs": [],
   "source": [
    "answer_0305 =\\\n",
    "\"\"\"\n",
    "-- SQL 語法起點\n",
    "\n",
    "-- SQL 語法終點\n",
    "\"\"\""
   ]
  },
  {
   "cell_type": "markdown",
   "metadata": {
    "deletable": false
   },
   "source": [
    "## 執行測試！\n",
    "\n",
    "點選右上角 Connect，然後點選上方選單的 Runtime -> Restart and run all -> Yes -> Run anyway。"
   ]
  },
  {
   "cell_type": "code",
   "execution_count": null,
   "metadata": {
    "deletable": false
   },
   "outputs": [],
   "source": [
    "class TestChapter03(unittest.TestCase):\n",
    "    def test_0301(self):\n",
    "        self.assertEqual(answer_0301, 0)\n",
    "    def test_0302(self):\n",
    "        self.assertEqual(answer_0302, 3)\n",
    "    def test_0303(self):\n",
    "        df = pd.read_sql(answer_0303, conn)\n",
    "        self.assertEqual(df.shape, (10, 2))\n",
    "        self.assertIn(\"2小時22分鐘\", df.iloc[:, 1].values)\n",
    "        self.assertIn(\"2小時58分鐘\", df.iloc[:, 1].values)\n",
    "    def test_0304(self):\n",
    "        df = pd.read_sql(answer_0304, conn)\n",
    "        self.assertEqual(df.shape, (10, 1))\n",
    "        self.assertIn(\"(1.5218,42.5063)\", df.iloc[:, 0].values)\n",
    "        self.assertIn(\"(-63.6167,-38.4161)\", df.iloc[:, 0].values)\n",
    "    def test_0305(self):\n",
    "        df = pd.read_sql(answer_0305, conn)\n",
    "        self.assertEqual(df.shape, (10, 2))\n",
    "        self.assertIn(\"77千人\", df.iloc[:, 1].values)\n",
    "        self.assertIn(\"45195千人\", df.iloc[:, 1].values)\n",
    "\n",
    "suite = unittest.TestLoader().loadTestsFromTestCase(TestChapter03)\n",
    "runner = unittest.TextTestRunner(verbosity=2)\n",
    "test_results = runner.run(suite)\n",
    "number_of_failures = len(test_results.failures)\n",
    "number_of_errors = len(test_results.errors)\n",
    "number_of_test_runs = test_results.testsRun\n",
    "number_of_successes = number_of_test_runs - (number_of_failures + number_of_errors)\n",
    "chapter_index = 3\n",
    "chapter_name = \"衍生計算欄位：運算符\""
   ]
  },
  {
   "cell_type": "code",
   "execution_count": null,
   "metadata": {
    "deletable": false
   },
   "outputs": [],
   "source": [
    "print(f\"您在第 {chapter_index:02} 章「{chapter_name}」的 {number_of_test_runs} 道練習中答對了 {number_of_successes} 題。\")"
   ]
  }
 ],
 "metadata": {
  "celltoolbar": "Edit Metadata",
  "kernelspec": {
   "display_name": "Python 3 (ipykernel)",
   "language": "python",
   "name": "python3"
  },
  "language_info": {
   "codemirror_mode": {
    "name": "ipython",
    "version": 3
   },
   "file_extension": ".py",
   "mimetype": "text/x-python",
   "name": "python",
   "nbconvert_exporter": "python",
   "pygments_lexer": "ipython3",
   "version": "3.12.7"
  }
 },
 "nbformat": 4,
 "nbformat_minor": 4
}
