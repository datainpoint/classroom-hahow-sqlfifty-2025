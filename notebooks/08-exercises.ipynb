{
 "cells": [
  {
   "cell_type": "markdown",
   "metadata": {
    "deletable": false
   },
   "source": [
    "# SQL 的五十道練習\n",
    "\n",
    "> 分組與聚合結果篩選\n",
    "\n",
    "[郭耀仁](https://hahow.in/@tonykuoyj) |  <yaojenkuo@datainpoint.com>"
   ]
  },
  {
   "cell_type": "markdown",
   "metadata": {
    "deletable": false
   },
   "source": [
    "## 練習題指引\n",
    "\n",
    "- 開始寫作之前，可以先按上方「Copy to Drive」按鈕將筆記本複製到自己的 Google 雲端硬碟。\n",
    "- 練習題共分為三種：是非題、單選題以及程式題。\n",
    "- 是非題：預設答案為 `None`，若覺得敘述**不正確**，就將 `None` 改寫為 `0`，覺得敘述**正確**，就將 `None` 改寫為 `1`\n",
    "- 單選題：覺得第一個選項**正確**，就將 `None` 改寫為 `1`，覺得第二個選項**正確**，就將 `None` 改寫為 `2`，覺得第三個選項**正確**，就將 `None` 改寫 `3`，覺得第四個選項**正確**，就將 `None` 改寫 `4`\n",
    "- 程式題：\n",
    "    - 在 SQL 語法起點與 SQL 語法終點這兩列註解之間撰寫能夠得到預期結果的 SQL。\n",
    "    - 我們已經將兩個學習資料庫載入環境，SQL 可以直接指定兩個學習資料庫中的資料表，不需要額外指定資料庫。\n",
    "    - 可以先在自己電腦的 SQLiteStudio 或者 DB Browser for SQLite 寫出跟預期結果相同的 SQL 後再複製貼上到練習題。\n",
    "- 執行測試的方式為點選右上角 Connect，然後點選上方選單的 Runtime -> Restart and run all -> Yes -> Run anyway。\n",
    "- 移動到 Google Colab 的最後一個儲存格看測試結果。"
   ]
  },
  {
   "cell_type": "code",
   "execution_count": null,
   "metadata": {},
   "outputs": [],
   "source": [
    "!wget -N https://github.com/datainpoint/classroom-hahow-sqlfifty-2025/raw/refs/heads/main/covid19/covid19.db\n",
    "!wget -N https://github.com/datainpoint/classroom-hahow-sqlfifty-2025/raw/refs/heads/main/imdb/imdb.db"
   ]
  },
  {
   "cell_type": "code",
   "execution_count": null,
   "metadata": {
    "deletable": false
   },
   "outputs": [],
   "source": [
    "import sqlite3\n",
    "import unittest\n",
    "import os\n",
    "import pandas as pd\n",
    "conn = sqlite3.connect('imdb.db')\n",
    "conn.execute(\"\"\"ATTACH 'covid19.db' AS covid19\"\"\")"
   ]
  },
  {
   "cell_type": "markdown",
   "metadata": {},
   "source": [
    "## 0801（是非題）`GROUP BY` 搭配聚合函數使用可以便捷地達成分組聚合應用。"
   ]
  },
  {
   "cell_type": "code",
   "execution_count": null,
   "metadata": {},
   "outputs": [],
   "source": [
    "answer_0801 = None"
   ]
  },
  {
   "cell_type": "markdown",
   "metadata": {},
   "source": [
    "## 0802（單選題）下列敘述何者有誤？\n",
    "\n",
    "1. `WHERE` 作用在觀測值維度；`HAVING` 作用在分組聚合結果。\n",
    "2. `WHERE` 與 `HAVING` 的差別為 `WHERE` 作用在分組聚合之前；`HAVING` 作用在分組聚合之後。\n",
    "3. `WHERE` 之後的條件不能應用聚合函數。\n",
    "4. `GROUP BY` 不可以單獨使用，一定要搭配聚合函數使用。"
   ]
  },
  {
   "cell_type": "code",
   "execution_count": null,
   "metadata": {},
   "outputs": [],
   "source": [
    "answer_0802 = None"
   ]
  },
  {
   "cell_type": "markdown",
   "metadata": {},
   "source": [
    "## 0803（程式題）從 `imdb` 資料庫的 `movies` 資料表以 `runtime` 欄位分類為「小於等於一小時」、「超過一小時」、「超過兩小時」以及「超過三小時」，並計算這四類的電影數量各有幾部，參考下列預期的查詢結果。\n",
    "\n",
    "- 預期輸出：(4, 2) 的查詢結果。\n",
    "\n",
    "```\n",
    "runtime_text\tnumber_of_movies\n",
    "小於等於一小時\t1\n",
    "超過一小時\t99\n",
    "超過三小時\t13\n",
    "超過兩小時\t137\n",
    "```"
   ]
  },
  {
   "cell_type": "code",
   "execution_count": null,
   "metadata": {},
   "outputs": [],
   "source": [
    "answer_0803 =\\\n",
    "\"\"\"\n",
    "-- SQL 語法起點\n",
    "\n",
    "-- SQL 語法終點\n",
    "\"\"\""
   ]
  },
  {
   "cell_type": "markdown",
   "metadata": {},
   "source": [
    "## 0804（程式題）承上題，將電影數量小於 50 部的類別剔除，參考下列預期的查詢結果。\n",
    "\n",
    "- 預期輸出：(2, 2) 的查詢結果。\n",
    "\n",
    "```\n",
    "runtime_text\tnumber_of_movies\n",
    "超過一小時\t99\n",
    "超過兩小時\t137\n",
    "```"
   ]
  },
  {
   "cell_type": "code",
   "execution_count": null,
   "metadata": {},
   "outputs": [],
   "source": [
    "answer_0804 =\\\n",
    "\"\"\"\n",
    "-- SQL 語法起點\n",
    "\n",
    "-- SQL 語法終點\n",
    "\"\"\""
   ]
  },
  {
   "cell_type": "markdown",
   "metadata": {},
   "source": [
    "## 0805（程式題）從 `covid19` 資料庫的 `geographics` 資料表將 `province_state` 欄位為 `NULL` 以及 `population` 大於 0 的資料篩選出來，參考下列預期的查詢結果。\n",
    "\n",
    "- 預期輸出：(197, 7) 的查詢結果。\n",
    "\n",
    "```\n",
    "id\tcountry_region\tprovince_state\tlatitude\tlongitude\tpopulation\tiso_code_id\n",
    "1\tAndorra\t\t42.5063\t1.5218\t77265\t1\n",
    "2\tUnited Arab Emirates\t\t23.424076\t53.847818\t9890400\t2\n",
    "3\tAfghanistan\t\t33.93911\t67.709953\t38928341\t3\n",
    "4\tAntigua and Barbuda\t\t17.0608\t-61.7964\t97928\t4\n",
    "6\tAlbania\t\t41.1533\t20.1683\t2877800\t6\n",
    "7\tArmenia\t\t40.0691\t45.0382\t2963234\t7\n",
    "8\tAngola\t\t-11.2027\t17.8739\t32866268\t8\n",
    "10\tArgentina\t\t-38.4161\t-63.6167\t45195777\t10\n",
    "12\tAustria\t\t47.5162\t14.5501\t9006400\t12\n",
    "21\tAustralia\t\t-25\t133\t25459700\t13\n",
    "23\tAzerbaijan\t\t40.1431\t47.5769\t10139175\t15\n",
    "24\tBosnia and Herzegovina\t\t43.9159\t17.6791\t3280815\t16\n",
    "25\tBarbados\t\t13.1939\t-59.5432\t287371\t17\n",
    "26\tBangladesh\t\t23.685\t90.3563\t164689383\t18\n",
    "39\tBelgium\t\t50.8333\t4.469936\t11492641\t19\n",
    "40\tBurkina Faso\t\t12.2383\t-1.5616\t20903278\t20\n",
    "41\tBulgaria\t\t42.7339\t25.4858\t6948445\t21\n",
    "42\tBahrain\t\t26.0275\t50.55\t1701583\t22\n",
    "43\tBurundi\t\t-3.3731\t29.9189\t11890781\t23\n",
    "44\tBenin\t\t9.3077\t2.3158\t12123198\t24\n",
    "47\tBrunei\t\t4.5353\t114.7277\t437483\t27\n",
    "48\tBolivia\t\t-16.2902\t-63.5887\t11673029\t28\n",
    "78\tBrazil\t\t-14.235\t-51.9253\t212559409\t30\n",
    "79\tBahamas\t\t25.025885\t-78.035889\t393248\t31\n",
    "80\tBhutan\t\t27.5142\t90.4336\t771612\t32\n",
    "81\tBotswana\t\t-22.3285\t24.6849\t2351625\t33\n",
    "82\tBelarus\t\t53.7098\t27.9534\t9449321\t34\n",
    "83\tBelize\t\t17.1899\t-88.4976\t397621\t35\n",
    "100\tCanada\t\t60\t-95\t38246108\t36\n",
    "101\tCongo (Kinshasa)\t\t-4.0383\t21.7587\t89561404\t37\n",
    "102\tCentral African Republic\t\t6.6111\t20.9394\t4829764\t38\n",
    "103\tCongo (Brazzaville)\t\t-0.228\t15.8277\t5518092\t39\n",
    "104\tSwitzerland\t\t46.8182\t8.2275\t8654618\t40\n",
    "105\tCote d'Ivoire\t\t7.54\t-5.5471\t26378275\t41\n",
    "124\tChile\t\t-35.6751\t-71.543\t19116209\t43\n",
    "125\tCameroon\t\t3.848\t11.5021\t26545864\t44\n",
    "158\tChina\t\t35.8617\t104.19545\t1411778724\t45\n",
    "193\tColombia\t\t4.5709\t-74.2973\t50882884\t46\n",
    "194\tCosta Rica\t\t9.7489\t-83.7534\t5094114\t47\n",
    "195\tCuba\t\t21.521757\t-77.781167\t11326616\t48\n",
    "196\tCabo Verde\t\t16.5388\t-23.0418\t555988\t49\n",
    "198\tCyprus\t\t35.1264\t33.4299\t1207361\t51\n",
    "199\tCzechia\t\t49.8175\t15.473\t10708982\t52\n",
    "217\tGermany\t\t51.165691\t10.451526\t83155031\t53\n",
    "218\tDjibouti\t\t11.8251\t42.5903\t988002\t54\n",
    "219\tDenmark\t\t56.2639\t9.5018\t5837213\t55\n",
    "220\tDominica\t\t15.415\t-61.371\t71991\t56\n",
    "221\tDominican Republic\t\t18.7357\t-70.1627\t10847904\t57\n",
    "222\tAlgeria\t\t28.0339\t1.6596\t43851043\t58\n",
    "223\tEcuador\t\t-1.8312\t-78.1834\t17643060\t59\n",
    "224\tEstonia\t\t58.5953\t25.0136\t1326539\t60\n",
    "225\tEgypt\t\t26.820553\t30.802498\t102334403\t61\n",
    "226\tWestern Sahara\t\t24.2155\t-12.8858\t597330\t62\n",
    "227\tEritrea\t\t15.1794\t39.7823\t3546427\t63\n",
    "248\tSpain\t\t40.463667\t-3.74922\t46754783\t64\n",
    "249\tEthiopia\t\t9.145\t40.4897\t114963583\t65\n",
    "250\tFinland\t\t61.92411\t25.748151\t5540718\t66\n",
    "251\tFiji\t\t-17.7134\t178.065\t896444\t67\n",
    "253\tMicronesia\t\t7.4256\t150.5508\t113815\t69\n",
    "255\tFrance\t\t46.2276\t2.2137\t65249843\t71\n",
    "256\tGabon\t\t-0.8037\t11.6094\t2225728\t72\n",
    "263\tUnited Kingdom\t\t55.3781\t-3.436\t67886004\t73\n",
    "264\tGrenada\t\t12.1165\t-61.679\t112519\t74\n",
    "265\tGeorgia\t\t42.3154\t43.3569\t3989175\t75\n",
    "268\tGhana\t\t7.9465\t-1.0232\t31072945\t78\n",
    "271\tGambia\t\t13.4432\t-15.3101\t2416664\t81\n",
    "272\tGuinea\t\t9.9456\t-9.6966\t13132792\t82\n",
    "274\tEquatorial Guinea\t\t1.6508\t10.2679\t1402985\t84\n",
    "275\tGreece\t\t39.0742\t21.8243\t10423056\t85\n",
    "276\tGuatemala\t\t15.7835\t-90.2308\t17915567\t86\n",
    "278\tGuinea-Bissau\t\t11.8037\t-15.1804\t1967998\t88\n",
    "279\tGuyana\t\t4.860416\t-58.93018\t786559\t89\n",
    "281\tHonduras\t\t15.2\t-86.2419\t9904608\t91\n",
    "282\tCroatia\t\t45.1\t15.2\t4105268\t92\n",
    "283\tHaiti\t\t18.9712\t-72.2852\t11402533\t93\n",
    "284\tHungary\t\t47.1625\t19.5033\t9660350\t94\n",
    "285\tIndonesia\t\t-0.7893\t113.9213\t273523621\t95\n",
    "286\tIreland\t\t53.1424\t-7.6921\t4937796\t96\n",
    "287\tIsrael\t\t31.046051\t34.851612\t8655541\t97\n",
    "326\tIndia\t\t20.593684\t78.96288\t1380004385\t99\n",
    "327\tIraq\t\t33.223191\t43.679291\t40222503\t100\n",
    "328\tIran\t\t32.427908\t53.688046\t83992953\t101\n",
    "329\tIceland\t\t64.9631\t-19.0208\t341250\t102\n",
    "351\tItaly\t\t41.87194\t12.56738\t60461828\t103\n",
    "353\tJamaica\t\t18.1096\t-77.2975\t2961161\t105\n",
    "354\tJordan\t\t31.24\t36.51\t10203140\t106\n",
    "404\tJapan\t\t36.204824\t138.252924\t126476458\t107\n",
    "405\tKenya\t\t-0.0236\t37.9062\t53771300\t108\n",
    "406\tKyrgyzstan\t\t41.20438\t74.766098\t6524191\t109\n",
    "407\tCambodia\t\t11.55\t104.9167\t16718971\t110\n",
    "408\tKiribati\t\t-3.3704\t-168.734\t117606\t111\n",
    "409\tComoros\t\t-11.6455\t43.3333\t869595\t112\n",
    "410\tSaint Kitts and Nevis\t\t17.357822\t-62.782998\t53192\t113\n",
    "411\tKorea, North\t\t40.3399\t127.5101\t25778815\t114\n",
    "412\tKorea, South\t\t35.907757\t127.766922\t51269183\t115\n",
    "413\tKuwait\t\t29.31166\t47.481766\t4270563\t116\n",
    "415\tKazakhstan\t\t48.0196\t66.9237\t18776707\t118\n",
    "416\tLaos\t\t19.85627\t102.495496\t7275556\t119\n",
    "417\tLebanon\t\t33.8547\t35.8623\t6825442\t120\n",
    "418\tSaint Lucia\t\t13.9094\t-60.9789\t183629\t121\n",
    "419\tLiechtenstein\t\t47.14\t9.55\t38137\t122\n",
    "420\tSri Lanka\t\t7.873054\t80.771797\t21413250\t123\n",
    "421\tLiberia\t\t6.428055\t-9.429499\t5057677\t124\n",
    "422\tLesotho\t\t-29.61\t28.2336\t2142252\t125\n",
    "423\tLithuania\t\t55.1694\t23.8813\t2722291\t126\n",
    "424\tLuxembourg\t\t49.8153\t6.1296\t625976\t127\n",
    "425\tLatvia\t\t56.8796\t24.6032\t1886202\t128\n",
    "426\tLibya\t\t26.3351\t17.228331\t6871287\t129\n",
    "427\tMorocco\t\t31.7917\t-7.0926\t36910558\t130\n",
    "428\tMonaco\t\t43.7333\t7.4167\t39244\t131\n",
    "474\tMoldova\t\t47.4116\t28.3699\t4027690\t132\n",
    "475\tMontenegro\t\t42.708678\t19.37439\t628062\t133\n",
    "477\tMadagascar\t\t-18.766947\t46.869107\t27691019\t135\n",
    "478\tMarshall Islands\t\t7.1315\t171.1845\t58413\t136\n",
    "479\tNorth Macedonia\t\t41.6086\t21.7453\t2083380\t137\n",
    "480\tMali\t\t17.570692\t-3.996166\t20250834\t138\n",
    "481\tBurma\t\t21.9162\t95.956\t54409794\t139\n",
    "482\tMongolia\t\t46.8625\t103.8467\t3278292\t140\n",
    "486\tMauritania\t\t21.0079\t-10.9408\t4649660\t144\n",
    "488\tMalta\t\t35.9375\t14.3754\t441539\t146\n",
    "489\tMauritius\t\t-20.348404\t57.552152\t1271767\t147\n",
    "490\tMaldives\t\t3.2028\t73.2207\t540542\t148\n",
    "491\tMalawi\t\t-13.2543\t34.3015\t19129955\t149\n",
    "525\tMexico\t\t23.6345\t-102.5528\t127792286\t150\n",
    "543\tMalaysia\t\t4.210484\t101.975766\t32365998\t151\n",
    "544\tMozambique\t\t-18.665695\t35.529562\t31255435\t152\n",
    "546\tNiger\t\t17.607789\t8.081666\t24206636\t155\n",
    "585\tNigeria\t\t9.082\t8.6753\t206139587\t156\n",
    "586\tNicaragua\t\t12.865416\t-85.207229\t6624554\t157\n",
    "600\tNetherlands\t\t52.1326\t5.2913\t17134873\t158\n",
    "601\tNorway\t\t60.472\t8.4689\t5421242\t159\n",
    "602\tNepal\t\t28.1667\t84.25\t29136808\t160\n",
    "603\tNauru\t\t-0.5228\t166.9315\t10834\t161\n",
    "605\tNew Zealand\t\t-40.9006\t174.886\t4822233\t163\n",
    "606\tOman\t\t21.512583\t55.923255\t5106622\t164\n",
    "607\tPanama\t\t8.538\t-80.7821\t4314768\t165\n",
    "634\tPeru\t\t-9.19\t-75.0152\t32971846\t166\n",
    "636\tPapua New Guinea\t\t-6.314993\t143.95555\t8947027\t168\n",
    "637\tPhilippines\t\t12.879721\t121.774017\t109581085\t169\n",
    "646\tPakistan\t\t30.3753\t69.3451\t220892331\t170\n",
    "664\tPoland\t\t51.9194\t19.1451\t37846605\t171\n",
    "668\tWest Bank and Gaza\t\t31.9522\t35.2332\t5101416\t175\n",
    "669\tPortugal\t\t39.3999\t-8.2245\t10196707\t176\n",
    "670\tPalau\t\t7.515\t134.5825\t18008\t177\n",
    "671\tParaguay\t\t-23.4425\t-58.4438\t7132530\t178\n",
    "672\tQatar\t\t25.3548\t51.1839\t2881060\t179\n",
    "717\tRomania\t\t45.9432\t24.9668\t19237682\t181\n",
    "718\tSerbia\t\t44.0165\t21.0059\t8737370\t182\n",
    "803\tRussia\t\t61.52401\t105.318756\t145934460\t183\n",
    "804\tRwanda\t\t-1.9403\t29.8739\t12952209\t184\n",
    "805\tSaudi Arabia\t\t23.885942\t45.079162\t34813867\t185\n",
    "806\tSolomon Islands\t\t-9.6457\t160.1562\t652858\t186\n",
    "807\tSeychelles\t\t-4.6796\t55.492\t98340\t187\n",
    "808\tSudan\t\t12.8628\t30.2176\t43849269\t188\n",
    "831\tSweden\t\t60.128161\t18.643501\t10099270\t189\n",
    "832\tSingapore\t\t1.2833\t103.8333\t5850343\t190\n",
    "834\tSlovenia\t\t46.1512\t14.9955\t2078932\t192\n",
    "844\tSlovakia\t\t48.669\t19.699\t5434712\t193\n",
    "845\tSierra Leone\t\t8.460555\t-11.779889\t7976985\t194\n",
    "846\tSan Marino\t\t43.9424\t12.4578\t33938\t195\n",
    "847\tSenegal\t\t14.4974\t-14.4524\t16743930\t196\n",
    "848\tSomalia\t\t5.152149\t46.199616\t15893219\t197\n",
    "849\tSuriname\t\t3.9193\t-56.0278\t586634\t198\n",
    "850\tSouth Sudan\t\t6.877\t31.307\t11193729\t199\n",
    "851\tSao Tome and Principe\t\t0.1864\t6.6131\t219161\t200\n",
    "852\tEl Salvador\t\t13.7942\t-88.8965\t6486201\t201\n",
    "854\tSyria\t\t34.802075\t38.996815\t17500657\t203\n",
    "855\tEswatini\t\t-26.5225\t31.4659\t1160164\t204\n",
    "857\tChad\t\t15.4542\t18.7322\t16425859\t206\n",
    "858\tTogo\t\t8.6195\t0.8248\t8278737\t207\n",
    "859\tThailand\t\t15.870032\t100.992541\t69799978\t208\n",
    "860\tTajikistan\t\t38.861\t71.2761\t9537642\t209\n",
    "861\tTimor-Leste\t\t-8.874217\t125.727539\t1318442\t210\n",
    "862\tTunisia\t\t33.886917\t9.537499\t11818618\t211\n",
    "863\tTonga\t\t-21.179\t-175.1982\t105697\t212\n",
    "864\tTurkey\t\t38.9637\t35.2433\t84339067\t213\n",
    "865\tTrinidad and Tobago\t\t10.6918\t-61.2225\t1399491\t214\n",
    "866\tTuvalu\t\t-7.1095\t177.6493\t11792\t215\n",
    "867\tTaiwan\t\t23.7\t121\t23816775\t216\n",
    "868\tTanzania\t\t-6.369028\t34.888822\t59734213\t217\n",
    "897\tUkraine\t\t48.3794\t31.1656\t43733759\t218\n",
    "898\tUganda\t\t1.373333\t32.290275\t45741000\t219\n",
    "956\tUS\t\t40\t-100\t329466283\t220\n",
    "957\tUruguay\t\t-32.5228\t-55.7658\t3473727\t221\n",
    "958\tUzbekistan\t\t41.377491\t64.585262\t33469199\t222\n",
    "959\tHoly See\t\t41.9029\t12.4534\t809\t223\n",
    "960\tSaint Vincent and the Grenadines\t\t12.9843\t-61.2872\t110947\t224\n",
    "961\tVenezuela\t\t6.4238\t-66.5897\t28435943\t225\n",
    "964\tVietnam\t\t14.058324\t108.277199\t97338583\t228\n",
    "965\tVanuatu\t\t-15.3767\t166.9592\t292680\t229\n",
    "967\tSamoa\t\t-13.759\t-172.1046\t196130\t231\n",
    "968\tKosovo\t\t42.602636\t20.902977\t1810366\t232\n",
    "969\tYemen\t\t15.552727\t48.516388\t29825968\t233\n",
    "971\tSouth Africa\t\t-30.5595\t22.9375\t59308690\t235\n",
    "972\tZambia\t\t-13.133897\t27.849332\t18383956\t236\n",
    "973\tZimbabwe\t\t-19.015438\t29.154857\t14862927\t237\n",
    "974\tNamibia\t\t-22.9576\t18.4904\t2540916\t153\n",
    "```"
   ]
  },
  {
   "cell_type": "code",
   "execution_count": null,
   "metadata": {},
   "outputs": [],
   "source": [
    "answer_0805 =\\\n",
    "\"\"\"\n",
    "-- SQL 語法起點\n",
    "\n",
    "-- SQL 語法終點\n",
    "\"\"\""
   ]
  },
  {
   "cell_type": "markdown",
   "metadata": {},
   "source": [
    "## 0806（程式題）承上題，將人口數分為「小於一百萬」、「小於一千萬」、「小於一億」與「大於等於一億」四個類別，並依據該類別進行分組聚合計數，參考下列預期的查詢結果。\n",
    "\n",
    "- 預期輸出：(4, 2) 的查詢結果。\n",
    "\n",
    "```\n",
    "population_category\tnumber_of_countries\n",
    "大於等於一億\t14\n",
    "小於一億\t77\n",
    "小於一千萬\t66\n",
    "小於一百萬\t40\n",
    "```"
   ]
  },
  {
   "cell_type": "code",
   "execution_count": null,
   "metadata": {},
   "outputs": [],
   "source": [
    "answer_0806 =\\\n",
    "\"\"\"\n",
    "-- SQL 語法起點\n",
    "\n",
    "-- SQL 語法終點\n",
    "\"\"\""
   ]
  },
  {
   "cell_type": "markdown",
   "metadata": {},
   "source": [
    "## 0807（程式題）承上題，剔除「小於一百萬」的類別，參考下列預期的查詢結果。\n",
    "\n",
    "- 預期輸出：(3, 2) 的查詢結果。\n",
    "\n",
    "```\n",
    "population_category\tnumber_of_countries\n",
    "大於等於一億\t14\n",
    "小於一億\t77\n",
    "小於一千萬\t66\n",
    "```"
   ]
  },
  {
   "cell_type": "code",
   "execution_count": null,
   "metadata": {},
   "outputs": [],
   "source": [
    "answer_0807 =\\\n",
    "\"\"\"\n",
    "-- SQL 語法起點\n",
    "\n",
    "-- SQL 語法終點\n",
    "\"\"\""
   ]
  },
  {
   "cell_type": "markdown",
   "metadata": {
    "deletable": false
   },
   "source": [
    "## 執行測試！\n",
    "\n",
    "點選右上角 Connect，然後點選上方選單的 Runtime -> Restart and run all -> Yes -> Run anyway。"
   ]
  },
  {
   "cell_type": "code",
   "execution_count": null,
   "metadata": {
    "deletable": false
   },
   "outputs": [],
   "source": [
    "class TestChapter08(unittest.TestCase):\n",
    "    def test_0801(self):\n",
    "        self.assertEqual(answer_0801, 1)\n",
    "    def test_0802(self):\n",
    "        self.assertEqual(answer_0802, 4)\n",
    "    def test_0803(self):\n",
    "        df = pd.read_sql(answer_0803, conn)\n",
    "        self.assertEqual(df.shape, (4, 2))\n",
    "        self.assertIn(\"超過一小時\", df.iloc[:, 0].values)\n",
    "        self.assertIn(\"超過兩小時\", df.iloc[:, 0].values)\n",
    "        self.assertIn(\"超過三小時\", df.iloc[:, 0].values)\n",
    "        self.assertIn(\"小於等於一小時\", df.iloc[:, 0].values)\n",
    "        self.assertIn(\"1\", df.iloc[:, 1].astype(str).values)\n",
    "        self.assertIn(\"99\", df.iloc[:, 1].astype(str).values)\n",
    "        self.assertIn(\"13\", df.iloc[:, 1].astype(str).values)\n",
    "        self.assertIn(\"137\", df.iloc[:, 1].astype(str).values)\n",
    "    def test_0804(self):\n",
    "        df = pd.read_sql(answer_0804, conn)\n",
    "        self.assertEqual(df.shape, (2, 2))\n",
    "        self.assertIn(\"超過一小時\", df.iloc[:, 0].values)\n",
    "        self.assertIn(\"超過兩小時\", df.iloc[:, 0].values)\n",
    "        self.assertIn(\"99\", df.iloc[:, 1].astype(str).values)\n",
    "        self.assertIn(\"137\", df.iloc[:, 1].astype(str).values)\n",
    "    def test_0805(self):\n",
    "        df = pd.read_sql(answer_0805, conn)\n",
    "        self.assertEqual(df.shape, (197, 7))\n",
    "    def test_0806(self):\n",
    "        df = pd.read_sql(answer_0806, conn)\n",
    "        self.assertEqual(df.shape, (4, 2))\n",
    "        self.assertIn(\"大於等於一億\", df.iloc[:, 0].values)\n",
    "        self.assertIn(\"小於一億\", df.iloc[:, 0].values)\n",
    "        self.assertIn(\"小於一千萬\", df.iloc[:, 0].values)\n",
    "        self.assertIn(\"小於一百萬\", df.iloc[:, 0].values)\n",
    "    def test_0807(self):\n",
    "        df = pd.read_sql(answer_0807, conn)\n",
    "        self.assertEqual(df.shape, (3, 2))\n",
    "        self.assertIn(\"大於等於一億\", df.iloc[:, 0].values)\n",
    "        self.assertIn(\"小於一億\", df.iloc[:, 0].values)\n",
    "        self.assertIn(\"小於一千萬\", df.iloc[:, 0].values)\n",
    "        \n",
    "suite = unittest.TestLoader().loadTestsFromTestCase(TestChapter08)\n",
    "runner = unittest.TextTestRunner(verbosity=2)\n",
    "test_results = runner.run(suite)\n",
    "number_of_failures = len(test_results.failures)\n",
    "number_of_errors = len(test_results.errors)\n",
    "number_of_test_runs = test_results.testsRun\n",
    "number_of_successes = number_of_test_runs - (number_of_failures + number_of_errors)\n",
    "chapter_index = 8\n",
    "chapter_name = \"分組與聚合結果篩選\""
   ]
  },
  {
   "cell_type": "code",
   "execution_count": null,
   "metadata": {
    "deletable": false
   },
   "outputs": [],
   "source": [
    "print(f\"您在第 {chapter_index:02} 章「{chapter_name}」的 {number_of_test_runs} 道練習中答對了 {number_of_successes} 題。\")"
   ]
  }
 ],
 "metadata": {
  "celltoolbar": "Edit Metadata",
  "kernelspec": {
   "display_name": "Python 3 (ipykernel)",
   "language": "python",
   "name": "python3"
  },
  "language_info": {
   "codemirror_mode": {
    "name": "ipython",
    "version": 3
   },
   "file_extension": ".py",
   "mimetype": "text/x-python",
   "name": "python",
   "nbconvert_exporter": "python",
   "pygments_lexer": "ipython3",
   "version": "3.12.7"
  }
 },
 "nbformat": 4,
 "nbformat_minor": 4
}
