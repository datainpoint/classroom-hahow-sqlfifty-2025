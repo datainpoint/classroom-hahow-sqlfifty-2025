{
 "cells": [
  {
   "cell_type": "markdown",
   "id": "c2ae627d",
   "metadata": {
    "slideshow": {
     "slide_type": "slide"
    }
   },
   "source": [
    "# SQL 的五十道練習\n",
    "\n",
    "> 簡介\n",
    "\n",
    "[郭耀仁](https://hahow.in/@tonykuoyj) |  <yaojenkuo@datainpoint.com>"
   ]
  },
  {
   "cell_type": "markdown",
   "id": "f21d90e6",
   "metadata": {
    "slideshow": {
     "slide_type": "subslide"
    }
   },
   "source": [
    "## 關於 2025 年的課程更新\n",
    "\n",
    "- 「SQL 的五十道練習」在 2021 年誕生，Exercise-based learning 廣受學生歡迎。\n",
    "- 因應不穩定的 [mybinder](https://mybinder.org) 服務，練習題全面替換為 [Google Colab](https://colab.research.google.com/) 服務。\n",
    "- 實踐「貴精不貴多」思維，調降學習資料庫的數量，讓學員可以專注學習 SQL\n",
    "- 加入通用表運算式（Common Table Execution, CTE）協助學員能在一般使用者權限下有更大發揮。\n",
    "- 將有趣的學習資料庫改以「課程公告」形式發佈作為補帖，讓學員在完課後也有動機保持聯絡。"
   ]
  },
  {
   "cell_type": "markdown",
   "id": "9da67d93",
   "metadata": {
    "slideshow": {
     "slide_type": "slide"
    }
   },
   "source": [
    "## SQL 重要觀念"
   ]
  },
  {
   "cell_type": "markdown",
   "id": "30842914",
   "metadata": {
    "slideshow": {
     "slide_type": "subslide"
    }
   },
   "source": [
    "## 什麼是 SQL\n",
    "\n",
    "- SQL 是 **S**tructured **Q**uery **L**anguage 的縮寫，是一個專門針對關聯式資料庫中所儲存的資料互動（包含查詢、定義、操作與控制）的語言。\n",
    "- 可以唸作 \"ess-cue-ell\" 或 \"sequel\"\n",
    "- SQL 在 1970 年代由國際商業機器公司（IBM）創造，剛開發出來時候僅只是為了更有效率地「查詢」儲存於關聯式資料庫中的資料，但是到了現代，除了查詢以外像是資料的建立、更新與刪除，也都能靠著 SQL 來完成。"
   ]
  },
  {
   "cell_type": "markdown",
   "id": "0af0883d",
   "metadata": {
    "slideshow": {
     "slide_type": "subslide"
    }
   },
   "source": [
    "## SQL 的重要性\n",
    "\n",
    "- 根據 Kaggle Survey，SQL 對資料科學領域的從業人員很重要。\n",
    "- 根據 Stack Overflow Survey，SQL 對軟體開發領域的從業人員很重要。"
   ]
  },
  {
   "cell_type": "markdown",
   "id": "93a5ac70",
   "metadata": {
    "slideshow": {
     "slide_type": "subslide"
    }
   },
   "source": [
    "## 對資料科學領域的從業人員很重要"
   ]
  },
  {
   "cell_type": "code",
   "execution_count": 1,
   "id": "a3575057",
   "metadata": {
    "slideshow": {
     "slide_type": "-"
    }
   },
   "outputs": [
    {
     "data": {
      "image/png": "[encoded data removed]",
      "text/plain": [
       "<Figure size 640x480 with 1 Axes>"
      ]
     },
     "metadata": {},
     "output_type": "display_data"
    }
   ],
   "source": [
    "from ks2022 import KaggleSurvey2022\n",
    "\n",
    "csv_file = \"kaggle_survey_2022_responses.csv\"\n",
    "ks = KaggleSurvey2022(csv_file)\n",
    "ks.plot_survey_summary(question_index=\"Q12\", n=2)"
   ]
  },
  {
   "cell_type": "markdown",
   "id": "78dc808a",
   "metadata": {
    "slideshow": {
     "slide_type": "subslide"
    }
   },
   "source": [
    "## 對軟體開發領域的從業人員很重要\n",
    "\n",
    "<https://survey.stackoverflow.co/>"
   ]
  },
  {
   "cell_type": "markdown",
   "id": "supposed-spread",
   "metadata": {
    "slideshow": {
     "slide_type": "slide"
    }
   },
   "source": [
    "## 建立學習環境"
   ]
  },
  {
   "cell_type": "markdown",
   "id": "94bb47b9",
   "metadata": {
    "slideshow": {
     "slide_type": "subslide"
    }
   },
   "source": [
    "## 兩步驟輕鬆建立學習環境\n",
    "\n",
    "1. 下載學習資料庫。\n",
    "2. 下載與安裝資料庫管理軟體。"
   ]
  },
  {
   "cell_type": "markdown",
   "id": "promotional-spanking",
   "metadata": {
    "slideshow": {
     "slide_type": "subslide"
    }
   },
   "source": [
    "## 下載學習資料庫\n",
    "\n",
    "- [imdb.db](https://classroom-hahow-sqlfifty.s3.ap-northeast-1.amazonaws.com/databases/imdb.db)\n",
    "- [covid19.db](https://classroom-hahow-sqlfifty.s3.ap-northeast-1.amazonaws.com/databases/covid19.db)"
   ]
  },
  {
   "cell_type": "markdown",
   "id": "fatal-bishop",
   "metadata": {
    "slideshow": {
     "slide_type": "subslide"
    }
   },
   "source": [
    "## SQLiteStudio、DB Browser for SQLite 都是資料庫管理軟體\n",
    "\n",
    "- SQLiteStudio：<https://github.com/pawelsalawa/sqlitestudio/releases>\n",
    "- DB Browser for SQLite：<https://sqlitebrowser.org/dl>"
   ]
  },
  {
   "cell_type": "markdown",
   "id": "34729c12",
   "metadata": {
    "slideshow": {
     "slide_type": "subslide"
    }
   },
   "source": [
    "## 在 Windows 作業系統下載安裝 SQLiteStudio、DB Browser for SQLite\n",
    "\n",
    "- SQLiteStudio：<https://github.com/pawelsalawa/sqlitestudio/releases>\n",
    "- DB Browser for SQLite：<https://sqlitebrowser.org/dl>"
   ]
  },
  {
   "cell_type": "markdown",
   "id": "2ab2f2ba",
   "metadata": {
    "slideshow": {
     "slide_type": "subslide"
    }
   },
   "source": [
    "## 在 macOS 下載安裝 SQLiteStudio、DB Browser for SQLite\n",
    "\n",
    "- 注意調整 macOS 的安裝權限設定。\n",
    "- SQLiteStudio：<https://github.com/pawelsalawa/sqlitestudio/releases>\n",
    "- DB Browser for SQLite：<https://sqlitebrowser.org/dl>"
   ]
  },
  {
   "cell_type": "markdown",
   "id": "7a2e121b",
   "metadata": {
    "slideshow": {
     "slide_type": "subslide"
    }
   },
   "source": [
    "## 本課程使用 SQLiteStudio\n",
    "\n",
    "- 如果你的電腦無法安裝最新版的 SQLiteStudio，可以試著下載與安裝舊一個版本號。\n",
    "- 使用 DB Browser for SQLite 跟課也完全沒有問題。\n",
    "- 或者使用其他支援 SQLite 的資料庫管理軟體，例如 [DBeaver](https://dbeaver.io/)"
   ]
  },
  {
   "cell_type": "markdown",
   "id": "irish-effort",
   "metadata": {
    "slideshow": {
     "slide_type": "slide"
    }
   },
   "source": [
    "## 確認學習環境能妥善運行"
   ]
  },
  {
   "cell_type": "markdown",
   "id": "a666f8ca",
   "metadata": {
    "slideshow": {
     "slide_type": "subslide"
    }
   },
   "source": [
    "## 資料庫的 Hello, world!\n",
    "\n",
    "- 新增學習資料庫 `imdb` 與 `covid19`\n",
    "- 連線學習資料庫，觀察資料表名稱。\n",
    "- 開啟編輯區，輸入 SQL 敘述後執行。\n",
    "\n",
    "```sql\n",
    "SELECT *\n",
    "  FROM table_name -- 替換成不同資料表名稱\n",
    " LIMIT 5;\n",
    "```"
   ]
  },
  {
   "cell_type": "markdown",
   "id": "2fc1eb20",
   "metadata": {
    "slideshow": {
     "slide_type": "subslide"
    }
   },
   "source": [
    "```sql\n",
    "-- 指定 imdb\n",
    "SELECT *\n",
    "  FROM actors\n",
    " LIMIT 5;\n",
    "```"
   ]
  },
  {
   "cell_type": "markdown",
   "id": "b81610be",
   "metadata": {
    "slideshow": {
     "slide_type": "subslide"
    }
   },
   "source": [
    "```sql\n",
    "-- 指定 covid19\n",
    "SELECT *\n",
    "  FROM confirmed\n",
    " LIMIT 5;\n",
    "```"
   ]
  },
  {
   "cell_type": "markdown",
   "id": "conscious-glance",
   "metadata": {
    "slideshow": {
     "slide_type": "slide"
    }
   },
   "source": [
    "## 學習資料庫一覽"
   ]
  },
  {
   "cell_type": "markdown",
   "id": "suspected-enforcement",
   "metadata": {
    "slideshow": {
     "slide_type": "subslide"
    }
   },
   "source": [
    "## `imdb.db` 的資料來源\n",
    "\n",
    "- 源自 [IMDb.com](https://www.imdb.com) 最高評等的 250 部電影：[IMDb Top 250 Movies](https://www.imdb.com/chart/top)\n",
    "- 資料期間為 2025 年 7 月。"
   ]
  },
  {
   "cell_type": "markdown",
   "id": "d5f1472d",
   "metadata": {
    "slideshow": {
     "slide_type": "subslide"
    }
   },
   "source": [
    "## actors\n",
    "\n",
    "```sql\n",
    "SELECT *\n",
    "  FROM actors\n",
    " LIMIT 5;\n",
    "```"
   ]
  },
  {
   "cell_type": "markdown",
   "id": "5da41d2f",
   "metadata": {
    "slideshow": {
     "slide_type": "subslide"
    }
   },
   "source": [
    "## directors\n",
    "\n",
    "```sql\n",
    "SELECT *\n",
    "  FROM directors\n",
    " LIMIT 5;\n",
    "```"
   ]
  },
  {
   "cell_type": "markdown",
   "id": "0fd5ff0d",
   "metadata": {
    "slideshow": {
     "slide_type": "subslide"
    }
   },
   "source": [
    "## movies\n",
    "\n",
    "```sql\n",
    "SELECT *\n",
    "  FROM movies\n",
    " LIMIT 5;\n",
    "```"
   ]
  },
  {
   "cell_type": "markdown",
   "id": "28a19d6a",
   "metadata": {
    "slideshow": {
     "slide_type": "subslide"
    }
   },
   "source": [
    "## movies_actors\n",
    "\n",
    "```sql\n",
    "SELECT *\n",
    "  FROM movies_actors\n",
    " LIMIT 5;\n",
    "```"
   ]
  },
  {
   "cell_type": "markdown",
   "id": "4bfee2b1",
   "metadata": {
    "slideshow": {
     "slide_type": "subslide"
    }
   },
   "source": [
    "## movies_directors\n",
    "\n",
    "```sql\n",
    "SELECT *\n",
    "  FROM movies_directors\n",
    " LIMIT 5;\n",
    "```"
   ]
  },
  {
   "cell_type": "markdown",
   "id": "582c4008",
   "metadata": {
    "slideshow": {
     "slide_type": "subslide"
    }
   },
   "source": [
    "## mpas\n",
    "\n",
    "```sql\n",
    "SELECT *\n",
    "  FROM mpas;\n",
    "```"
   ]
  },
  {
   "cell_type": "markdown",
   "id": "6919beb4",
   "metadata": {
    "slideshow": {
     "slide_type": "subslide"
    }
   },
   "source": [
    "## release_info\n",
    "\n",
    "```sql\n",
    "SELECT *\n",
    "  FROM release_info\n",
    " LIMIT 5;\n",
    "```"
   ]
  },
  {
   "cell_type": "markdown",
   "id": "a2166eb5",
   "metadata": {
    "slideshow": {
     "slide_type": "subslide"
    }
   },
   "source": [
    "## `covid19.db` 的資料來源\n",
    "\n",
    "- 源自 [Center for Systems Science and Engineering (CSSE) at Johns Hopkins University](https://github.com/CSSEGISandData/COVID-19)\n",
    "- 資料期間為 2020-01-22 至 2023-03-09"
   ]
  },
  {
   "cell_type": "markdown",
   "id": "1d2aeb91",
   "metadata": {
    "slideshow": {
     "slide_type": "subslide"
    }
   },
   "source": [
    "## confirmed\n",
    "\n",
    "```sql\n",
    "SELECT *\n",
    "  FROM confirmed\n",
    " LIMIT 5;\n",
    "```"
   ]
  },
  {
   "cell_type": "markdown",
   "id": "5414300b",
   "metadata": {
    "slideshow": {
     "slide_type": "subslide"
    }
   },
   "source": [
    "## deaths\n",
    "\n",
    "```sql\n",
    "SELECT *\n",
    "  FROM deaths\n",
    " LIMIT 5;\n",
    "```"
   ]
  },
  {
   "cell_type": "markdown",
   "id": "1285ed52",
   "metadata": {
    "slideshow": {
     "slide_type": "subslide"
    }
   },
   "source": [
    "## geographics\n",
    "\n",
    "```sql\n",
    "SELECT *\n",
    "  FROM geographics\n",
    " LIMIT 5;\n",
    "```"
   ]
  },
  {
   "cell_type": "markdown",
   "id": "62c836f6",
   "metadata": {
    "slideshow": {
     "slide_type": "subslide"
    }
   },
   "source": [
    "## iso_codes\n",
    "\n",
    "```sql\n",
    "SELECT *\n",
    "  FROM iso_codes\n",
    " LIMIT 5;\n",
    "```"
   ]
  },
  {
   "cell_type": "markdown",
   "id": "e41eb212",
   "metadata": {
    "slideshow": {
     "slide_type": "slide"
    }
   },
   "source": [
    "## SQL 的組成與分類"
   ]
  },
  {
   "cell_type": "markdown",
   "id": "de197a8e",
   "metadata": {
    "slideshow": {
     "slide_type": "subslide"
    }
   },
   "source": [
    "## SQL 的組成\n",
    "\n",
    "SQL 是由保留字（Keyword）、物件名稱、函數、符號與常數所組合而成的一種語言。"
   ]
  },
  {
   "cell_type": "markdown",
   "id": "13a35f07",
   "metadata": {
    "slideshow": {
     "slide_type": "subslide"
    }
   },
   "source": [
    "## SQL 的組成（續）\n",
    "\n",
    "- 以資料庫的 Hello, world! 為例：\n",
    "    - 保留字：`SELECT`, `FROM`, `LIMIT`\n",
    "    - 物件名稱：資料表名稱。\n",
    "    - 函數：沒有使用到。\n",
    "    - 符號：`*`\n",
    "    - 常數：`5`"
   ]
  },
  {
   "cell_type": "markdown",
   "id": "2f52c1a0",
   "metadata": {
    "slideshow": {
     "slide_type": "subslide"
    }
   },
   "source": [
    "## SQL 的分類\n",
    "\n",
    "依照使用目的進而區別 SQL 的分類：\n",
    "\n",
    "|SQL 的分類|範例|\n",
    "|:---------|:----|\n",
    "|資料查詢語言（Data Query Language, DQL）|`SELECT ...`|\n",
    "|資料定義語言（Data Definition Language, DDL）|`CREATE ...`|\n",
    "|資料操作語言（Data Manipulation Language, DML）|`UPDATE ...`|\n",
    "|資料控制語言（Data Control Language, DCL）|`GRANT ...`|\n",
    "|交易控制語言（Transaction Control Language, TCL）|`COMMIT ...`|"
   ]
  },
  {
   "cell_type": "markdown",
   "id": "b46016ee",
   "metadata": {
    "slideshow": {
     "slide_type": "subslide"
    }
   },
   "source": [
    "## SQL 的分類（續）\n",
    "\n",
    "- 實務上，資料查詢語言是被分類在資料操作語言之下的一個分支。\n",
    "    - 資料定義語言（Data Definition Language, DDL）\n",
    "    - 資料操作語言（Data Manipulation Language, DML）\n",
    "        - 資料查詢語言（Data Query Language, DQL）\n",
    "    - 資料控制語言（Data Control Language, DCL）\n",
    "    - 交易控制語言（Transaction Control Language, TCL）\n",
    "- 這堂入門課程，我們專注在「資料查詢語言」的部分。"
   ]
  },
  {
   "cell_type": "markdown",
   "id": "e3e211c5",
   "metadata": {
    "slideshow": {
     "slide_type": "slide"
    }
   },
   "source": [
    "## 重要的資料庫觀念"
   ]
  },
  {
   "cell_type": "markdown",
   "id": "b6c4ffcb",
   "metadata": {
    "slideshow": {
     "slide_type": "subslide"
    }
   },
   "source": [
    "## 資料庫定義\n",
    "\n",
    "- 什麼是資料庫？\n",
    "- 什麼是關聯式資料庫？\n",
    "- 什麼是關聯式資料庫管理系統？"
   ]
  },
  {
   "cell_type": "markdown",
   "id": "c71976d6",
   "metadata": {
    "slideshow": {
     "slide_type": "subslide"
    }
   },
   "source": [
    "## 什麼是資料庫\n",
    "\n",
    "資料庫是一種特定、經過加工的資料集合，能夠放置在伺服器、個人電腦、手機或者微型電腦（例如：樹莓派）之中。"
   ]
  },
  {
   "cell_type": "markdown",
   "id": "f4387b9b",
   "metadata": {
    "slideshow": {
     "slide_type": "subslide"
    }
   },
   "source": [
    "## 什麼是關聯式\n",
    "\n",
    "- 關聯式為描述資料庫中的資料集合是以列（Rows）與欄（Columns）所組成的二維表格形式記錄，並且遵守關聯式模型準則設計，這樣的資料庫就被稱為關聯式資料庫。\n",
    "- 有時列也有其他別名，像是紀錄（Records）、觀測值（Observations）、元組（Tuples）等；欄的其他別名則有欄位（Fields）、變數（Variables）、屬性（Attributes）等。"
   ]
  },
  {
   "cell_type": "markdown",
   "id": "c1113efd",
   "metadata": {
    "slideshow": {
     "slide_type": "subslide"
    }
   },
   "source": [
    "## 什麼是關聯式（續）\n",
    "\n",
    "關聯式模型體現在兩個層面：\n",
    "\n",
    "1. 觀測值與欄位所記錄的資料是相關且連動的。\n",
    "2. 資料表之間能以連接鍵（Join key）與主鍵（Primary key）相連接。"
   ]
  },
  {
   "cell_type": "markdown",
   "id": "58a0865a",
   "metadata": {
    "slideshow": {
     "slide_type": "subslide"
    }
   },
   "source": [
    "## 觀測值與欄位所記錄的資料是相關且連動的\n",
    "\n",
    "透過排序（`ORDER BY`）可以觀察到資料是相關且連動的。"
   ]
  },
  {
   "cell_type": "markdown",
   "id": "fafb36f0",
   "metadata": {
    "slideshow": {
     "slide_type": "-"
    }
   },
   "source": [
    "```sql\n",
    "-- 排序前\n",
    "SELECT title,\n",
    "       runtime\n",
    "  FROM movies;\n",
    "```"
   ]
  },
  {
   "cell_type": "markdown",
   "id": "b897c4e4",
   "metadata": {
    "slideshow": {
     "slide_type": "-"
    }
   },
   "source": [
    "```sql\n",
    "-- 排序後\n",
    "SELECT title,\n",
    "       runtime\n",
    "  FROM movies\n",
    " ORDER BY runtime;\n",
    "```"
   ]
  },
  {
   "cell_type": "markdown",
   "id": "1c53f821",
   "metadata": {
    "slideshow": {
     "slide_type": "subslide"
    }
   },
   "source": [
    "## 資料表之間能以連接鍵（Join key）與主鍵（Primary key）相連接"
   ]
  },
  {
   "cell_type": "markdown",
   "id": "558084d5",
   "metadata": {},
   "source": [
    "```sql\n",
    "SELECT movies.title,\n",
    "       release_info.country,\n",
    "       release_info.release_date\n",
    "  FROM release_info\n",
    "  JOIN movies\n",
    "    ON release_info.movie_id = movies.id -- 連接鍵 movie_id 與主鍵 id 相連接\n",
    " WHERE movies.id = 1 AND\n",
    "       release_info.country = 'Taiwan';\n",
    "```"
   ]
  },
  {
   "cell_type": "markdown",
   "id": "1c6e737f",
   "metadata": {
    "slideshow": {
     "slide_type": "subslide"
    }
   },
   "source": [
    "## 能夠被稱為是資料庫的資料集合必須要同時具備兩個特徵\n",
    "\n",
    "1. 觀測值必須具備屬性。\n",
    "2. 資料集合必須具備元資料（Metadata）。"
   ]
  },
  {
   "cell_type": "markdown",
   "id": "91aecd37",
   "metadata": {
    "slideshow": {
     "slide_type": "subslide"
    }
   },
   "source": [
    "## 觀測值必須具備屬性"
   ]
  },
  {
   "cell_type": "markdown",
   "id": "05c5d638",
   "metadata": {},
   "source": [
    "```sql\n",
    "SELECT *\n",
    "  FROM movies\n",
    " LIMIT 1;\n",
    "```"
   ]
  },
  {
   "cell_type": "markdown",
   "id": "11c8c16f",
   "metadata": {
    "slideshow": {
     "slide_type": "subslide"
    }
   },
   "source": [
    "## 資料集合必須具備元資料（Metadata）\n",
    "\n",
    "- 元資料是用來解釋資料表內容的資料。\n",
    "- 元資料之於資料，就像是英英字典之於英文單字一般。"
   ]
  },
  {
   "cell_type": "markdown",
   "id": "11f1c69f",
   "metadata": {},
   "source": [
    "```sql\n",
    "SELECT *\n",
    "  FROM PRAGMA_TABLE_INFO('movies');\n",
    "```"
   ]
  },
  {
   "cell_type": "markdown",
   "id": "943ab3c6",
   "metadata": {
    "slideshow": {
     "slide_type": "subslide"
    }
   },
   "source": [
    "## 什麼是關聯式資料庫管理系統\n",
    "\n",
    "- 管理關聯式資料庫的電腦軟體稱為關聯式資料庫管理系統（Relational Database Management System, RDBMS）。\n",
    "- 透過關聯式資料庫管理系統，可以讓關聯式資料庫具有多人共用、處理大量資料、自動化讀寫與備份等功能。"
   ]
  },
  {
   "cell_type": "markdown",
   "id": "3edf1fd5",
   "metadata": {
    "slideshow": {
     "slide_type": "subslide"
    }
   },
   "source": [
    "## 常見的關聯式資料庫管理系統大致可以分為商業授權與開放原始碼兩個大類\n",
    "\n",
    "- 商業授權\n",
    "    - SQL Server：微軟公司（Microsoft）的關聯式資料庫管理系統。\n",
    "    - Oracle Database：甲骨文公司（Oracle）的關聯式資料庫管理系統。\n",
    "    - DB2：國際商業機器公司（IBM）的關聯式資料庫管理系統。\n",
    "- 開放原始碼\n",
    "    - SQLite：開放原始碼的關聯式資料庫管理系統。\n",
    "    - MySQL：開放原始碼的關聯式資料庫管理系統，現為甲骨文公司所有。\n",
    "    - PostgreSQL：開放原始碼的關聯式資料庫管理系統。"
   ]
  },
  {
   "cell_type": "markdown",
   "id": "71931315",
   "metadata": {
    "slideshow": {
     "slide_type": "subslide"
    }
   },
   "source": [
    "## SQL、關聯式資料庫與關聯式資料庫管理系統三者的關係\n",
    "\n",
    "|SQL|關聯式資料庫|關聯式資料庫管理系統|\n",
    "|:--|:---------|:----------------|\n",
    "|駕駛車的技術、執照|車|道路、車庫、交通號誌、路線管理|\n",
    "|駕駛船的技術、執照|船|水域、船塢、港口、航線管理|\n",
    "|駕駛飛機的技術、執照|飛機|空域、機場、停機坪、跑道、塔台、航線管理|"
   ]
  }
 ],
 "metadata": {
  "celltoolbar": "Slideshow",
  "kernelspec": {
   "display_name": "Data Science",
   "language": "python",
   "name": "datascience"
  },
  "language_info": {
   "codemirror_mode": {
    "name": "ipython",
    "version": 3
   },
   "file_extension": ".py",
   "mimetype": "text/x-python",
   "name": "python",
   "nbconvert_exporter": "python",
   "pygments_lexer": "ipython3",
   "version": "3.11.9"
  }
 },
 "nbformat": 4,
 "nbformat_minor": 5
}
