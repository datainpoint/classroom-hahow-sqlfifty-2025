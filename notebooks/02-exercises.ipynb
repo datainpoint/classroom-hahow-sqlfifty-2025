{
 "cells": [
  {
   "cell_type": "markdown",
   "metadata": {
    "deletable": false
   },
   "source": [
    "# SQL 的五十道練習\n",
    "\n",
    "> 從資料表選擇\n",
    "\n",
    "[郭耀仁](https://hahow.in/@tonykuoyj) |  <yaojenkuo@datainpoint.com>"
   ]
  },
  {
   "cell_type": "markdown",
   "metadata": {
    "deletable": false
   },
   "source": [
    "## 練習題指引\n",
    "\n",
    "- 開始寫作之前，可以先按上方「Copy to Drive」按鈕將筆記本複製到自己的 Google 雲端硬碟。\n",
    "- 練習題共分為三種：是非題、單選題以及程式題。\n",
    "- 是非題：預設答案為 `None`，若覺得敘述**不正確**，就將 `None` 改寫為 `0`，覺得敘述**正確**，就將 `None` 改寫為 `1`\n",
    "- 單選題：覺得第一個選項**正確**，就將 `None` 改寫為 `1`，覺得第二個選項**正確**，就將 `None` 改寫為 `2`，覺得第三個選項**正確**，就將 `None` 改寫 `3`，覺得第四個選項**正確**，就將 `None` 改寫 `4`\n",
    "- 程式題：\n",
    "    - 在 SQL 語法起點與 SQL 語法終點這兩列註解之間撰寫能夠得到預期結果的 SQL。\n",
    "    - 我們已經將兩個學習資料庫載入環境，SQL 可以直接指定兩個學習資料庫中的資料表，不需要額外指定資料庫。\n",
    "    - 可以先在自己電腦的 SQLiteStudio 或者 DB Browser for SQLite 寫出跟預期結果相同的 SQL 後再複製貼上到練習題。\n",
    "- 執行測試的方式為點選右上角 Connect，然後點選上方選單的 Runtime -> Restart and run all -> Yes -> Run anyway。\n",
    "- 移動到 Google Colab 的最後一個儲存格看測試結果。"
   ]
  },
  {
   "cell_type": "code",
   "execution_count": null,
   "metadata": {},
   "outputs": [],
   "source": [
    "!wget -N https://github.com/datainpoint/classroom-hahow-sqlfifty-2025/raw/refs/heads/main/covid19/covid19.db\n",
    "!wget -N https://github.com/datainpoint/classroom-hahow-sqlfifty-2025/raw/refs/heads/main/imdb/imdb.db"
   ]
  },
  {
   "cell_type": "code",
   "execution_count": null,
   "metadata": {
    "deletable": false
   },
   "outputs": [],
   "source": [
    "import sqlite3\n",
    "import unittest\n",
    "import os\n",
    "import pandas as pd\n",
    "conn = sqlite3.connect('imdb.db')\n",
    "conn.execute(\"\"\"ATTACH 'covid19.db' AS covid19\"\"\")"
   ]
  },
  {
   "cell_type": "markdown",
   "metadata": {},
   "source": [
    "## 0201（是非題）在 SQL 中保留字的大小寫會影響執行結果的對錯。"
   ]
  },
  {
   "cell_type": "code",
   "execution_count": null,
   "metadata": {},
   "outputs": [],
   "source": [
    "answer_0201 = None"
   ]
  },
  {
   "cell_type": "markdown",
   "metadata": {},
   "source": [
    "## 0202（單選題）下列敘述何者有誤？\n",
    "\n",
    "1. 不論選擇幾個欄位 `DISTINCT` 只需（也只能）使用一次。\n",
    "2. SQL 保留字的寫作順序可以隨意調動，例如 `FROM` 可以先於 `SELECT`\n",
    "3. `OFFSET` 一定要與 `LIMIT` 搭配使用，不能單獨使用。\n",
    "4. 儲存在資料庫中的資料表是有兩個維度的資料結構。 "
   ]
  },
  {
   "cell_type": "code",
   "execution_count": null,
   "metadata": {},
   "outputs": [],
   "source": [
    "answer_0202 = None"
   ]
  },
  {
   "cell_type": "markdown",
   "metadata": {},
   "source": [
    "## 0203（程式題）從 `imdb` 資料庫的 `movies` 資料表選擇 `id`、`title` 兩個變數，並且顯示第 11 列至第 15 列的觀測值，參考下列預期的查詢結果。\n",
    "\n",
    "- 預期輸出：(5, 2) 的查詢結果。\n",
    "\n",
    "```\n",
    "id\ttitle\n",
    "11\tForrest Gump\n",
    "12\tThe Lord of the Rings: The Two Towers\n",
    "13\tFight Club\n",
    "14\tInception\n",
    "15\tStar Wars: Episode V - The Empire Strikes Back\n",
    "```"
   ]
  },
  {
   "cell_type": "code",
   "execution_count": null,
   "metadata": {},
   "outputs": [],
   "source": [
    "answer_0203 =\\\n",
    "\"\"\"\n",
    "-- SQL 語法起點\n",
    "\n",
    "-- SQL 語法終點\n",
    "\"\"\""
   ]
  },
  {
   "cell_type": "markdown",
   "metadata": {},
   "source": [
    "## 0204（程式題）從 `imdb` 資料庫的 `mpas` 資料表選擇 `mpa` 一個變數，並取別名為 `motion_picture_association_rating`，參考下列預期的查詢結果。\n",
    "\n",
    "- 預期輸出：(10, 1) 的查詢結果。\n",
    "\n",
    "```\n",
    "motion_picture_association_rating\n",
    "Approved\n",
    "G\n",
    "NC-17\n",
    "Not Rated\n",
    "PG\n",
    "PG-13\n",
    "Passed\n",
    "R\n",
    "TV-MA\n",
    "NULL\n",
    "```"
   ]
  },
  {
   "cell_type": "code",
   "execution_count": null,
   "metadata": {},
   "outputs": [],
   "source": [
    "answer_0204 =\\\n",
    "\"\"\"\n",
    "-- SQL 語法起點\n",
    "\n",
    "-- SQL 語法終點\n",
    "\"\"\""
   ]
  },
  {
   "cell_type": "markdown",
   "metadata": {},
   "source": [
    "## 0205（程式題）從 `imdb` 資料庫的 `movies` 資料表選擇「不重複」的 `rating` 變數，並取別名為 `distinct_rating`，參考下列預期的查詢結果。\n",
    "\n",
    "- 預期輸出：(13, 1) 的查詢結果。\n",
    "\n",
    "```\n",
    "rating\n",
    "9.3\n",
    "9.2\n",
    "9\n",
    "8.8\n",
    "8.9\n",
    "8.7\n",
    "8.6\n",
    "8.5\n",
    "8.4\n",
    "8.3\n",
    "8.2\n",
    "8.1\n",
    "8\n",
    "```"
   ]
  },
  {
   "cell_type": "code",
   "execution_count": null,
   "metadata": {},
   "outputs": [],
   "source": [
    "answer_0205 =\\\n",
    "\"\"\"\n",
    "-- SQL 語法起點\n",
    "\n",
    "-- SQL 語法終點\n",
    "\"\"\""
   ]
  },
  {
   "cell_type": "markdown",
   "metadata": {
    "deletable": false
   },
   "source": [
    "## 執行測試！\n",
    "\n",
    "點選右上角 Connect，然後點選上方選單的 Runtime -> Restart and run all -> Yes -> Run anyway。"
   ]
  },
  {
   "cell_type": "code",
   "execution_count": null,
   "metadata": {
    "deletable": false
   },
   "outputs": [],
   "source": [
    "class TestChapter02(unittest.TestCase):\n",
    "    def test_0201(self):\n",
    "        self.assertEqual(answer_0201, 0)\n",
    "    def test_0202(self):\n",
    "        self.assertEqual(answer_0202, 2)\n",
    "    def test_0203(self):\n",
    "        df = pd.read_sql(answer_0203, conn)\n",
    "        self.assertEqual(df.shape, (5, 2))\n",
    "        self.assertIn(11, df.iloc[:, 0].values)\n",
    "        self.assertIn(15, df.iloc[:, 0].values)\n",
    "    def test_0204(self):\n",
    "        df = pd.read_sql(answer_0204, conn)\n",
    "        self.assertEqual(df.shape, (10, 1))\n",
    "        self.assertEqual(df.columns[0], \"motion_picture_association_rating\")\n",
    "        self.assertIn(\"G\", df.iloc[:, 0].values)\n",
    "        self.assertIn(\"R\", df.iloc[:, 0].values)\n",
    "    def test_0205(self):\n",
    "        df = pd.read_sql(answer_0205, conn)\n",
    "        self.assertEqual(df.shape, (13, 1))\n",
    "        self.assertIn(9.3, df.iloc[:, 0].values)\n",
    "        self.assertIn(8, df.iloc[:, 0].values)\n",
    "\n",
    "suite = unittest.TestLoader().loadTestsFromTestCase(TestChapter02)\n",
    "runner = unittest.TextTestRunner(verbosity=2)\n",
    "test_results = runner.run(suite)\n",
    "number_of_failures = len(test_results.failures)\n",
    "number_of_errors = len(test_results.errors)\n",
    "number_of_test_runs = test_results.testsRun\n",
    "number_of_successes = number_of_test_runs - (number_of_failures + number_of_errors)\n",
    "chapter_index = 2\n",
    "chapter_name = \"從資料表選擇\""
   ]
  },
  {
   "cell_type": "code",
   "execution_count": null,
   "metadata": {
    "deletable": false
   },
   "outputs": [],
   "source": [
    "print(f\"您在第 {chapter_index:02} 章「{chapter_name}」的 {number_of_test_runs} 道練習中答對了 {number_of_successes} 題。\")"
   ]
  }
 ],
 "metadata": {
  "celltoolbar": "Edit Metadata",
  "kernelspec": {
   "display_name": "Python 3 (ipykernel)",
   "language": "python",
   "name": "python3"
  },
  "language_info": {
   "codemirror_mode": {
    "name": "ipython",
    "version": 3
   },
   "file_extension": ".py",
   "mimetype": "text/x-python",
   "name": "python",
   "nbconvert_exporter": "python",
   "pygments_lexer": "ipython3",
   "version": "3.12.7"
  }
 },
 "nbformat": 4,
 "nbformat_minor": 4
}
