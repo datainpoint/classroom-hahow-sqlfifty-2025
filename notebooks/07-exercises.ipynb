{
 "cells": [
  {
   "cell_type": "markdown",
   "metadata": {
    "deletable": false
   },
   "source": [
    "# SQL 的五十道練習\n",
    "\n",
    "> 衍生計算欄位：條件邏輯\n",
    "\n",
    "[郭耀仁](https://hahow.in/@tonykuoyj) |  <yaojenkuo@datainpoint.com>"
   ]
  },
  {
   "cell_type": "markdown",
   "metadata": {
    "deletable": false
   },
   "source": [
    "## 練習題指引\n",
    "\n",
    "- 開始寫作之前，可以先按上方「Copy to Drive」按鈕將筆記本複製到自己的 Google 雲端硬碟。\n",
    "- 練習題共分為三種：是非題、單選題以及程式題。\n",
    "- 是非題：預設答案為 `None`，若覺得敘述**不正確**，就將 `None` 改寫為 `0`，覺得敘述**正確**，就將 `None` 改寫為 `1`\n",
    "- 單選題：覺得第一個選項**正確**，就將 `None` 改寫為 `1`，覺得第二個選項**正確**，就將 `None` 改寫為 `2`，覺得第三個選項**正確**，就將 `None` 改寫 `3`，覺得第四個選項**正確**，就將 `None` 改寫 `4`\n",
    "- 程式題：\n",
    "    - 在 SQL 語法起點與 SQL 語法終點這兩列註解之間撰寫能夠得到預期結果的 SQL。\n",
    "    - 我們已經將兩個學習資料庫載入環境，SQL 可以直接指定兩個學習資料庫中的資料表，不需要額外指定資料庫。\n",
    "    - 可以先在自己電腦的 SQLiteStudio 或者 DB Browser for SQLite 寫出跟預期結果相同的 SQL 後再複製貼上到練習題。\n",
    "- 執行測試的方式為點選右上角 Connect，然後點選上方選單的 Runtime -> Restart and run all -> Yes -> Run anyway。\n",
    "- 移動到 Google Colab 的最後一個儲存格看測試結果。"
   ]
  },
  {
   "cell_type": "code",
   "execution_count": null,
   "metadata": {},
   "outputs": [],
   "source": [
    "!wget -N https://github.com/datainpoint/classroom-hahow-sqlfifty-2025/raw/refs/heads/main/covid19/covid19.db\n",
    "!wget -N https://github.com/datainpoint/classroom-hahow-sqlfifty-2025/raw/refs/heads/main/imdb/imdb.db"
   ]
  },
  {
   "cell_type": "code",
   "execution_count": null,
   "metadata": {
    "deletable": false
   },
   "outputs": [],
   "source": [
    "import sqlite3\n",
    "import unittest\n",
    "import os\n",
    "import pandas as pd\n",
    "conn = sqlite3.connect('imdb.db')\n",
    "conn.execute(\"\"\"ATTACH 'covid19.db' AS covid19\"\"\")"
   ]
  },
  {
   "cell_type": "markdown",
   "metadata": {},
   "source": [
    "## 0701（是非題）應用條件邏輯時，當條件交集時會以寫作的順序決定判斷結果，優先寫作的條件會優先被採用。"
   ]
  },
  {
   "cell_type": "code",
   "execution_count": null,
   "metadata": {},
   "outputs": [],
   "source": [
    "answer_0701 = None"
   ]
  },
  {
   "cell_type": "markdown",
   "metadata": {},
   "source": [
    "## 0702（單選題）下列敘述何者正確？\n",
    "\n",
    "1. 條件僅能夠被運用在篩選資料。\n",
    "2. 條件邏輯就如同其他程式語言的 `if...else if...else...` 語法結構。\n",
    "3. 使用 `CASE WHEN` 語法結構時一定要有 `ELSE` 敘述。\n",
    "4. 使用 `CASE WHEN` 語法結構衍生計算而得的欄位不能作為排序的變數依據。"
   ]
  },
  {
   "cell_type": "code",
   "execution_count": null,
   "metadata": {},
   "outputs": [],
   "source": [
    "answer_0702 = None"
   ]
  },
  {
   "cell_type": "markdown",
   "metadata": {},
   "source": [
    "## 0703（程式題）從 `imdb` 資料庫的 `movies` 資料表將 `runtime` 分類為「小於等於一小時」、「超過一小時」、「超過兩小時」以及「超過三小時」，並顯示前 10 列，參考下列預期的查詢結果。\n",
    "\n",
    "- 預期輸出：(10, 2) 的查詢結果。\n",
    "\n",
    "```\n",
    "runtime\truntime_text\n",
    "142\t超過兩小時\n",
    "175\t超過兩小時\n",
    "152\t超過兩小時\n",
    "202\t超過三小時\n",
    "96\t超過一小時\n",
    "201\t超過三小時\n",
    "195\t超過三小時\n",
    "154\t超過兩小時\n",
    "178\t超過兩小時\n",
    "178\t超過兩小時\n",
    "```"
   ]
  },
  {
   "cell_type": "code",
   "execution_count": null,
   "metadata": {},
   "outputs": [],
   "source": [
    "answer_0703 =\\\n",
    "\"\"\"\n",
    "-- SQL 語法起點\n",
    "\n",
    "-- SQL 語法終點\n",
    "\"\"\""
   ]
  },
  {
   "cell_type": "markdown",
   "metadata": {},
   "source": [
    "## 0704（程式題）從 `covid19` 資料庫的 `confirmed` 資料表將 `updated_on` 分類為「二零二零」、「二零二一」、「二零二二」與「二零二三」\n",
    "\n",
    "- 預期輸出：(4, 1) 的查詢結果。\n",
    "\n",
    "```\n",
    "updated_on_year\n",
    "二零二零\n",
    "二零二一\n",
    "二零二二\n",
    "二零二三\n",
    "```"
   ]
  },
  {
   "cell_type": "code",
   "execution_count": null,
   "metadata": {},
   "outputs": [],
   "source": [
    "answer_0704 =\\\n",
    "\"\"\"\n",
    "-- SQL 語法起點\n",
    "\n",
    "-- SQL 語法終點\n",
    "\"\"\""
   ]
  },
  {
   "cell_type": "markdown",
   "metadata": {},
   "source": [
    "## 0705（程式題）從 `covid19` 資料庫的 `geographics` 資料表依據經度（`longitude`）與緯度（`latittude`）判斷位於南半球、北半球、東半球或西半球，並顯示前 20 列，參考下列預期的查詢結果。\n",
    "\n",
    "- 預期輸出：(20, 4) 的查詢結果。\n",
    "\n",
    "```\n",
    "longitude\tlatitude\teast_or_west\tnorth_or_south\n",
    "1.5218\t42.5063\t東半球\t北半球\n",
    "53.847818\t23.424076\t東半球\t北半球\n",
    "67.709953\t33.93911\t東半球\t北半球\n",
    "-61.7964\t17.0608\t西半球\t北半球\n",
    "-63.0686\t18.2206\t西半球\t北半球\n",
    "20.1683\t41.1533\t東半球\t北半球\n",
    "45.0382\t40.0691\t東半球\t北半球\n",
    "17.8739\t-11.2027\t東半球\t南半球\n",
    "23.347\t-71.9499\t東半球\t南半球\n",
    "-63.6167\t-38.4161\t西半球\t南半球\n",
    "-170.132\t-14.271\t西半球\t南半球\n",
    "14.5501\t47.5162\t東半球\t北半球\n",
    "149.0124\t-35.4735\t東半球\t南半球\n",
    "151.2093\t-33.8688\t東半球\t南半球\n",
    "130.8456\t-12.4634\t東半球\t南半球\n",
    "153.0251\t-27.4698\t東半球\t南半球\n",
    "138.6007\t-34.9285\t東半球\t南半球\n",
    "147.3272\t-42.8821\t東半球\t南半球\n",
    "144.9631\t-37.8136\t東半球\t南半球\n",
    "115.8605\t-31.9505\t東半球\t南半球\n",
    "```"
   ]
  },
  {
   "cell_type": "code",
   "execution_count": null,
   "metadata": {},
   "outputs": [],
   "source": [
    "answer_0705 =\\\n",
    "\"\"\"\n",
    "-- SQL 語法起點\n",
    "\n",
    "-- SQL 語法終點\n",
    "\"\"\""
   ]
  },
  {
   "cell_type": "markdown",
   "metadata": {
    "deletable": false
   },
   "source": [
    "## 執行測試！\n",
    "\n",
    "點選右上角 Connect，然後點選上方選單的 Runtime -> Restart and run all -> Yes -> Run anyway。"
   ]
  },
  {
   "cell_type": "code",
   "execution_count": null,
   "metadata": {
    "deletable": false
   },
   "outputs": [],
   "source": [
    "class TestChapter07(unittest.TestCase):\n",
    "    def test_0701(self):\n",
    "        self.assertEqual(answer_0701, 1)\n",
    "    def test_0702(self):\n",
    "        self.assertEqual(answer_0702, 2)\n",
    "    def test_0703(self):\n",
    "        df = pd.read_sql(answer_0703, conn)\n",
    "        self.assertEqual(df.shape, (10, 2))\n",
    "        self.assertIn(\"超過一小時\", df.iloc[:, 1].values)\n",
    "        self.assertIn(\"超過兩小時\", df.iloc[:, 1].values)\n",
    "        self.assertIn(\"超過三小時\", df.iloc[:, 1].values)\n",
    "    def test_0704(self):\n",
    "        df = pd.read_sql(answer_0704, conn)\n",
    "        self.assertEqual(df.shape, (4, 1))\n",
    "        self.assertIn(\"二零二零\", df.iloc[:, 0].values)\n",
    "        self.assertIn(\"二零二一\", df.iloc[:, 0].values)\n",
    "        self.assertIn(\"二零二二\", df.iloc[:, 0].values)\n",
    "        self.assertIn(\"二零二三\", df.iloc[:, 0].values)\n",
    "    def test_0705(self):\n",
    "        df = pd.read_sql(answer_0705, conn)\n",
    "        self.assertEqual(df.shape, (20, 4))\n",
    "        self.assertIn(\"東半球\", df.iloc[:, 2].values)\n",
    "        self.assertIn(\"西半球\", df.iloc[:, 2].values)\n",
    "        self.assertIn(\"北半球\", df.iloc[:, 3].values)\n",
    "        self.assertIn(\"南半球\", df.iloc[:, 3].values)\n",
    "\n",
    "suite = unittest.TestLoader().loadTestsFromTestCase(TestChapter07)\n",
    "runner = unittest.TextTestRunner(verbosity=2)\n",
    "test_results = runner.run(suite)\n",
    "number_of_failures = len(test_results.failures)\n",
    "number_of_errors = len(test_results.errors)\n",
    "number_of_test_runs = test_results.testsRun\n",
    "number_of_successes = number_of_test_runs - (number_of_failures + number_of_errors)\n",
    "chapter_index = 7\n",
    "chapter_name = \"衍生計算欄位：條件邏輯\""
   ]
  },
  {
   "cell_type": "code",
   "execution_count": null,
   "metadata": {
    "deletable": false
   },
   "outputs": [],
   "source": [
    "print(f\"您在第 {chapter_index:02} 章「{chapter_name}」的 {number_of_test_runs} 道練習中答對了 {number_of_successes} 題。\")"
   ]
  }
 ],
 "metadata": {
  "celltoolbar": "Edit Metadata",
  "kernelspec": {
   "display_name": "Python 3 (ipykernel)",
   "language": "python",
   "name": "python3"
  },
  "language_info": {
   "codemirror_mode": {
    "name": "ipython",
    "version": 3
   },
   "file_extension": ".py",
   "mimetype": "text/x-python",
   "name": "python",
   "nbconvert_exporter": "python",
   "pygments_lexer": "ipython3",
   "version": "3.12.7"
  }
 },
 "nbformat": 4,
 "nbformat_minor": 4
}
