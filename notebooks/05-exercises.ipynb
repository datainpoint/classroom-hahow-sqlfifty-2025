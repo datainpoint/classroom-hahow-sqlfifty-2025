{
 "cells": [
  {
   "cell_type": "markdown",
   "metadata": {
    "deletable": false
   },
   "source": [
    "# SQL 的五十道練習\n",
    "\n",
    "> 排序查詢結果\n",
    "\n",
    "[郭耀仁](https://hahow.in/@tonykuoyj) |  <yaojenkuo@datainpoint.com>"
   ]
  },
  {
   "cell_type": "markdown",
   "metadata": {
    "deletable": false
   },
   "source": [
    "## 練習題指引\n",
    "\n",
    "- 開始寫作之前，可以先按上方「Copy to Drive」按鈕將筆記本複製到自己的 Google 雲端硬碟。\n",
    "- 練習題共分為三種：是非題、單選題以及程式題。\n",
    "- 是非題：預設答案為 `None`，若覺得敘述**不正確**，就將 `None` 改寫為 `0`，覺得敘述**正確**，就將 `None` 改寫為 `1`\n",
    "- 單選題：覺得第一個選項**正確**，就將 `None` 改寫為 `1`，覺得第二個選項**正確**，就將 `None` 改寫為 `2`，覺得第三個選項**正確**，就將 `None` 改寫 `3`，覺得第四個選項**正確**，就將 `None` 改寫 `4`\n",
    "- 程式題：\n",
    "    - 在 SQL 語法起點與 SQL 語法終點這兩列註解之間撰寫能夠得到預期結果的 SQL。\n",
    "    - 我們已經將兩個學習資料庫載入環境，SQL 可以直接指定兩個學習資料庫中的資料表，不需要額外指定資料庫。\n",
    "    - 可以先在自己電腦的 SQLiteStudio 或者 DB Browser for SQLite 寫出跟預期結果相同的 SQL 後再複製貼上到練習題。\n",
    "- 執行測試的方式為點選右上角 Connect，然後點選上方選單的 Runtime -> Restart and run all -> Yes -> Run anyway。\n",
    "- 移動到 Google Colab 的最後一個儲存格看測試結果。"
   ]
  },
  {
   "cell_type": "code",
   "execution_count": null,
   "metadata": {},
   "outputs": [],
   "source": [
    "!wget -N https://github.com/datainpoint/classroom-hahow-sqlfifty-2025/raw/refs/heads/main/covid19/covid19.db\n",
    "!wget -N https://github.com/datainpoint/classroom-hahow-sqlfifty-2025/raw/refs/heads/main/imdb/imdb.db"
   ]
  },
  {
   "cell_type": "code",
   "execution_count": null,
   "metadata": {
    "deletable": false
   },
   "outputs": [],
   "source": [
    "import sqlite3\n",
    "import unittest\n",
    "import os\n",
    "import pandas as pd\n",
    "conn = sqlite3.connect('imdb.db')\n",
    "conn.execute(\"\"\"ATTACH 'covid19.db' AS covid19\"\"\")"
   ]
  },
  {
   "cell_type": "markdown",
   "metadata": {},
   "source": [
    "## 0501（是非題）在 SQL 中的預設排序方式為遞減排序（降冪、由大到小）。"
   ]
  },
  {
   "cell_type": "code",
   "execution_count": null,
   "metadata": {},
   "outputs": [],
   "source": [
    "answer_0501 = None"
   ]
  },
  {
   "cell_type": "markdown",
   "metadata": {},
   "source": [
    "## 0502（單選題）下列有關排序的敘述何者正確？\n",
    "\n",
    "1. 想要查詢前 m 高的資料可以先遞增排序再限制顯示前 m 列。\n",
    "2. 英文的文字資料遞增排序為 `Z` 到 `A`\n",
    "3. 先指定以 `id` 欄位排序資料後，後續指定排序的變數都沒有意義。\n",
    "4. 調整為遞減排序所使用的保留字為 `ASC`"
   ]
  },
  {
   "cell_type": "code",
   "execution_count": null,
   "metadata": {},
   "outputs": [],
   "source": [
    "answer_0502 = None"
   ]
  },
  {
   "cell_type": "markdown",
   "metadata": {},
   "source": [
    "## 0503（程式題）從 `imdb` 資料庫的 `release_info` 資料表查詢距今最遠的 10 個上映日期，參考下列預期的查詢結果。\n",
    "\n",
    "- 預期輸出：(10, 1) 的查詢結果。\n",
    "\n",
    "```\n",
    "released_on\n",
    "1921-01-16\n",
    "1921-01-21\n",
    "1921-01-30\n",
    "1921-02-06\n",
    "1921-03-01\n",
    "1921-03-12\n",
    "1921-04-01\n",
    "1921-05-06\n",
    "1921-11-06\n",
    "1922-01-13\n",
    "```"
   ]
  },
  {
   "cell_type": "code",
   "execution_count": null,
   "metadata": {},
   "outputs": [],
   "source": [
    "answer_0503 =\\\n",
    "\"\"\"\n",
    "-- SQL 語法起點\n",
    "\n",
    "-- SQL 語法終點\n",
    "\"\"\""
   ]
  },
  {
   "cell_type": "markdown",
   "metadata": {},
   "source": [
    "## 0504（程式題）從 `covid19` 資料庫的 `confirmed` 資料表查詢距今最近的 10 個資料更新日期，參考下列預期的查詢結果。\n",
    "\n",
    "- 預期輸出：(10, 1) 的查詢結果。\n",
    "\n",
    "```\n",
    "updated_on\n",
    "2023-03-09\n",
    "2023-03-08\n",
    "2023-03-07\n",
    "2023-03-06\n",
    "2023-03-05\n",
    "2023-03-04\n",
    "2023-03-03\n",
    "2023-03-02\n",
    "2023-03-01\n",
    "2023-02-28\n",
    "```"
   ]
  },
  {
   "cell_type": "code",
   "execution_count": null,
   "metadata": {},
   "outputs": [],
   "source": [
    "answer_0504 =\\\n",
    "\"\"\"\n",
    "-- SQL 語法起點\n",
    "\n",
    "-- SQL 語法終點\n",
    "\"\"\""
   ]
  },
  {
   "cell_type": "markdown",
   "metadata": {},
   "source": [
    "## 0505（程式題）從 `covid19` 資料庫的 `geographics` 資料表查詢人口數第 6 多至第 15 多的觀測值，參考下列預期的查詢結果。\n",
    "\n",
    "- 預期輸出：(10, 3) 的查詢結果。\n",
    "\n",
    "```\n",
    "country_region\tprovince_state\tpopulation\n",
    "Pakistan\t\t220892331\n",
    "Brazil\t\t212559409\n",
    "Nigeria\t\t206139587\n",
    "Bangladesh\t\t164689383\n",
    "Russia\t\t145934460\n",
    "Mexico\t\t127792286\n",
    "Japan\t\t126476458\n",
    "China\tGuangdong\t126012510\n",
    "India\tBihar\t124799926\n",
    "India\tMaharashtra\t123144223\n",
    "```"
   ]
  },
  {
   "cell_type": "code",
   "execution_count": null,
   "metadata": {},
   "outputs": [],
   "source": [
    "answer_0505 =\\\n",
    "\"\"\"\n",
    "-- SQL 語法起點\n",
    "\n",
    "-- SQL 語法終點\n",
    "\"\"\""
   ]
  },
  {
   "cell_type": "markdown",
   "metadata": {
    "deletable": false
   },
   "source": [
    "## 執行測試！\n",
    "\n",
    "點選右上角 Connect，然後點選上方選單的 Runtime -> Restart and run all -> Yes -> Run anyway。"
   ]
  },
  {
   "cell_type": "code",
   "execution_count": null,
   "metadata": {
    "deletable": false
   },
   "outputs": [],
   "source": [
    "class TestChapter05(unittest.TestCase):\n",
    "    def test_0501(self):\n",
    "        self.assertEqual(answer_0501, 0)\n",
    "    def test_0502(self):\n",
    "        self.assertEqual(answer_0502, 3)\n",
    "    def test_0503(self):\n",
    "        df = pd.read_sql(answer_0503, conn)\n",
    "        self.assertEqual(df.shape, (10, 1))\n",
    "        self.assertIn(\"1921-01-16\", df.iloc[:, 0].astype(str).values)\n",
    "        self.assertIn(\"1922-01-13\", df.iloc[:, 0].astype(str).values)\n",
    "    def test_0504(self):\n",
    "        df = pd.read_sql(answer_0504, conn)\n",
    "        self.assertEqual(df.shape, (10, 1))\n",
    "        self.assertIn(\"2023-03-09\", df.iloc[:, 0].astype(str).values)\n",
    "        self.assertIn(\"2023-02-28\", df.iloc[:, 0].astype(str).values)\n",
    "    def test_0505(self):\n",
    "        df = pd.read_sql(answer_0505, conn)\n",
    "        self.assertEqual(df.shape, (10, 3))\n",
    "        self.assertIn(\"Japan\", df.iloc[:, 0].astype(str).values)\n",
    "        self.assertIn(\"India\", df.iloc[:, 0].astype(str).values)\n",
    "        self.assertIn(\"Mexico\", df.iloc[:, 0].astype(str).values)\n",
    "        self.assertIn(\"Pakistan\", df.iloc[:, 0].astype(str).values)\n",
    "\n",
    "suite = unittest.TestLoader().loadTestsFromTestCase(TestChapter05)\n",
    "runner = unittest.TextTestRunner(verbosity=2)\n",
    "test_results = runner.run(suite)\n",
    "number_of_failures = len(test_results.failures)\n",
    "number_of_errors = len(test_results.errors)\n",
    "number_of_test_runs = test_results.testsRun\n",
    "number_of_successes = number_of_test_runs - (number_of_failures + number_of_errors)\n",
    "chapter_index = 5\n",
    "chapter_name = \"排序查詢結果\""
   ]
  },
  {
   "cell_type": "code",
   "execution_count": null,
   "metadata": {
    "deletable": false
   },
   "outputs": [],
   "source": [
    "print(f\"您在第 {chapter_index:02} 章「{chapter_name}」的 {number_of_test_runs} 道練習中答對了 {number_of_successes} 題。\")"
   ]
  }
 ],
 "metadata": {
  "celltoolbar": "Edit Metadata",
  "kernelspec": {
   "display_name": "Python 3 (ipykernel)",
   "language": "python",
   "name": "python3"
  },
  "language_info": {
   "codemirror_mode": {
    "name": "ipython",
    "version": 3
   },
   "file_extension": ".py",
   "mimetype": "text/x-python",
   "name": "python",
   "nbconvert_exporter": "python",
   "pygments_lexer": "ipython3",
   "version": "3.12.7"
  }
 },
 "nbformat": 4,
 "nbformat_minor": 4
}
