{
 "cells": [
  {
   "cell_type": "markdown",
   "metadata": {
    "deletable": false
   },
   "source": [
    "# SQL 的五十道練習\n",
    "\n",
    "> 綜合練習題\n",
    "\n",
    "[郭耀仁](https://hahow.in/@tonykuoyj) |  <yaojenkuo@datainpoint.com>"
   ]
  },
  {
   "cell_type": "markdown",
   "metadata": {
    "deletable": false
   },
   "source": [
    "## 練習題指引\n",
    "\n",
    "- 開始寫作之前，可以先按上方「Copy to Drive」按鈕將筆記本複製到自己的 Google 雲端硬碟。\n",
    "- 練習題共分為三種：是非題、單選題以及程式題。\n",
    "- 是非題：預設答案為 `None`，若覺得敘述**不正確**，就將 `None` 改寫為 `0`，覺得敘述**正確**，就將 `None` 改寫為 `1`\n",
    "- 單選題：覺得第一個選項**正確**，就將 `None` 改寫為 `1`，覺得第二個選項**正確**，就將 `None` 改寫為 `2`，覺得第三個選項**正確**，就將 `None` 改寫 `3`，覺得第四個選項**正確**，就將 `None` 改寫 `4`\n",
    "- 程式題：\n",
    "    - 在 SQL 語法起點與 SQL 語法終點這兩列註解之間撰寫能夠得到預期結果的 SQL。\n",
    "    - 我們已經將兩個學習資料庫載入環境，SQL 可以直接指定兩個學習資料庫中的資料表，不需要額外指定資料庫。\n",
    "    - 可以先在自己電腦的 SQLiteStudio 或者 DB Browser for SQLite 寫出跟預期結果相同的 SQL 後再複製貼上到練習題。\n",
    "- 執行測試的方式為點選右上角 Connect，然後點選上方選單的 Runtime -> Restart and run all -> Yes -> Run anyway。\n",
    "- 移動到 Google Colab 的最後一個儲存格看測試結果。"
   ]
  },
  {
   "cell_type": "code",
   "execution_count": null,
   "metadata": {},
   "outputs": [],
   "source": [
    "!wget -N https://github.com/datainpoint/classroom-hahow-sqlfifty-2025/raw/refs/heads/main/covid19/covid19.db\n",
    "!wget -N https://github.com/datainpoint/classroom-hahow-sqlfifty-2025/raw/refs/heads/main/imdb/imdb.db"
   ]
  },
  {
   "cell_type": "code",
   "execution_count": null,
   "metadata": {
    "deletable": false
   },
   "outputs": [],
   "source": [
    "import sqlite3\n",
    "import unittest\n",
    "import pandas as pd\n",
    "conn = sqlite3.connect('imdb.db')\n",
    "conn.execute(\"\"\"ATTACH 'covid19.db' AS covid19\"\"\")"
   ]
  },
  {
   "cell_type": "markdown",
   "metadata": {},
   "source": [
    "## 1101（是非題）這門課程透過了 SQLite 學習 SQL 與資料庫知識，未來工作上無論是使用 Microsoft SQL Server 或 Oracle Oracle Database 等，依然能夠沿用課程的相關知識。"
   ]
  },
  {
   "cell_type": "code",
   "execution_count": null,
   "metadata": {},
   "outputs": [],
   "source": [
    "answer_1101 = None"
   ]
  },
  {
   "cell_type": "markdown",
   "metadata": {},
   "source": [
    "## 1102（是非題）關聯式資料庫所應用的關聯式模型是唯一一個最好的資料模型，其他非關聯式的資料模型都沒有學習或使用的必要。"
   ]
  },
  {
   "cell_type": "code",
   "execution_count": null,
   "metadata": {},
   "outputs": [],
   "source": [
    "answer_1102 = None"
   ]
  },
  {
   "cell_type": "markdown",
   "metadata": {},
   "source": [
    "## 1103（單選題）下列何者可以作為透過 SQLite 學習 SQL 的軟體？\n",
    "\n",
    "1. DBeaver\n",
    "2. SQLiteStudio\n",
    "3. DB Browser for SQLite\n",
    "4. 以上皆可。"
   ]
  },
  {
   "cell_type": "code",
   "execution_count": null,
   "metadata": {},
   "outputs": [],
   "source": [
    "answer_1103 = None"
   ]
  },
  {
   "cell_type": "markdown",
   "metadata": {},
   "source": [
    "## 1104（單選題）下列何者不是常見的關聯式資料庫管理系統？\n",
    "\n",
    "1. SQLite\n",
    "2. MongoDB\n",
    "3. MySQL\n",
    "4. PostgreSQL"
   ]
  },
  {
   "cell_type": "code",
   "execution_count": null,
   "metadata": {},
   "outputs": [],
   "source": [
    "answer_1104 = None"
   ]
  },
  {
   "cell_type": "markdown",
   "metadata": {},
   "source": [
    "## 1105（單選題）完成這門課程的學員，可以勝任下列哪一個職位所需的 SQL 技能水平？\n",
    "\n",
    "1. 資料分析師 Data Analyst\n",
    "2. 資料科學家 Data Scientist\n",
    "3. 商業分析師 Business Analyst\n",
    "4. 財務分析師 Financial Analyst\n",
    "5. 以上皆是。"
   ]
  },
  {
   "cell_type": "code",
   "execution_count": null,
   "metadata": {},
   "outputs": [],
   "source": [
    "answer_1105 = None"
   ]
  },
  {
   "cell_type": "markdown",
   "metadata": {},
   "source": [
    "## 1106（程式題）從 `imdb` 資料庫查詢演員 Christian Bale 出演的電影，參考下列預期的查詢結果。\n",
    "\n",
    "- 預期輸出：(6, 4) 的查詢結果。\n",
    "\n",
    "```\n",
    "title\tdirected_by\tstarred_by\tmpa\n",
    "The Dark Knight\tChristopher Nolan\tChristian Bale\tPG-13\n",
    "The Prestige\tChristopher Nolan\tChristian Bale\tPG-13\n",
    "The Dark Knight Rises\tChristopher Nolan\tChristian Bale\tPG-13\n",
    "Batman Begins\tChristopher Nolan\tChristian Bale\tPG-13\n",
    "Howl's Moving Castle\tHayao Miyazaki\tChristian Bale\tPG\n",
    "Ford v Ferrari\tJames Mangold\tChristian Bale\tPG-13\n",
    "```"
   ]
  },
  {
   "cell_type": "code",
   "execution_count": null,
   "metadata": {},
   "outputs": [],
   "source": [
    "answer_1106 =\\\n",
    "\"\"\"\n",
    "-- SQL 語法起點\n",
    "\n",
    "-- SQL 語法終點\n",
    "\"\"\""
   ]
  },
  {
   "cell_type": "markdown",
   "metadata": {},
   "source": [
    "## 1107（程式題）從 `imdb` 資料庫查詢評等大於等於 8.8（`rating >= 8.8`）的電影與它們在台灣的上映日期，參考下列預期的查詢結果。\n",
    "\n",
    "- 預期輸出：(27, 5) 的查詢結果。\n",
    "\n",
    "```\n",
    "title\trating\tdirected_by\tcountry\treleased_on\n",
    "The Shawshank Redemption\t9.3\tFrank Darabont\tTaiwan\t1995-03-10\n",
    "The Shawshank Redemption\t9.3\tFrank Darabont\tTaiwan\t2020-03-13\n",
    "The Shawshank Redemption\t9.3\tFrank Darabont\tTaiwan\t2025-04-11\n",
    "The Godfather\t9.2\tFrancis Ford Coppola\tTaiwan\t1980-10-31\n",
    "The Godfather\t9.2\tFrancis Ford Coppola\tTaiwan\t2012-10-19\n",
    "The Godfather\t9.2\tFrancis Ford Coppola\tTaiwan\t2019-09-27\n",
    "The Dark Knight\t9\tChristopher Nolan\tTaiwan\t2008-07-16\n",
    "The Dark Knight\t9\tChristopher Nolan\tTaiwan\t2020-05-29\n",
    "The Godfather Part II\t9\tFrancis Ford Coppola\tTaiwan\t2012-10-19\n",
    "The Godfather Part II\t9\tFrancis Ford Coppola\tTaiwan\t2019-09-27\n",
    "The Lord of the Rings: The Return of the King\t9\tPeter Jackson\tTaiwan\t2003-12-18\n",
    "The Lord of the Rings: The Return of the King\t9\tPeter Jackson\tTaiwan\t2021-04-29\n",
    "Schindler's List\t9\tSteven Spielberg\tTaiwan\t1994-03-12\n",
    "Schindler's List\t9\tSteven Spielberg\tTaiwan\t2019-01-25\n",
    "Pulp Fiction\t8.8\tQuentin Tarantino\tTaiwan\t1994-12-09\n",
    "Pulp Fiction\t8.8\tQuentin Tarantino\tTaiwan\t2013-03-29\n",
    "Pulp Fiction\t8.8\tQuentin Tarantino\tTaiwan\t2017-03-31\n",
    "The Lord of the Rings: The Fellowship of the Ring\t8.9\tPeter Jackson\tTaiwan\t2002-01-18\n",
    "The Lord of the Rings: The Fellowship of the Ring\t8.9\tPeter Jackson\tTaiwan\t2021-04-29\n",
    "Forrest Gump\t8.8\tRobert Zemeckis\tTaiwan\t1994-10-15\n",
    "The Lord of the Rings: The Two Towers\t8.8\tPeter Jackson\tTaiwan\t2002-12-19\n",
    "The Lord of the Rings: The Two Towers\t8.8\tPeter Jackson\tTaiwan\t2002-12-20\n",
    "The Lord of the Rings: The Two Towers\t8.8\tPeter Jackson\tTaiwan\t2021-04-29\n",
    "Fight Club\t8.8\tDavid Fincher\tTaiwan\t1999-11-11\n",
    "Fight Club\t8.8\tDavid Fincher\tTaiwan\t2017-09-22\n",
    "Inception\t8.8\tChristopher Nolan\tTaiwan\t2010-07-16\n",
    "Inception\t8.8\tChristopher Nolan\tTaiwan\t2020-08-12\n",
    "```"
   ]
  },
  {
   "cell_type": "code",
   "execution_count": null,
   "metadata": {},
   "outputs": [],
   "source": [
    "answer_1107 =\\\n",
    "\"\"\"\n",
    "-- SQL 語法起點\n",
    "\n",
    "-- SQL 語法終點\n",
    "\"\"\""
   ]
  },
  {
   "cell_type": "markdown",
   "metadata": {},
   "source": [
    "## 1108（程式題）從 `imdb` 資料庫查詢電影魔戒三部曲與蝙蝠俠三部曲在台灣最近一次的上映日期，參考下列預期的查詢結果。\n",
    "\n",
    "- 預期輸出：(6, 3) 的查詢結果。\n",
    "\n",
    "```\n",
    "title\tcountry\tlatest_released_on\n",
    "Batman Begins\tTaiwan\t2020-05-29\n",
    "The Dark Knight\tTaiwan\t2020-05-29\n",
    "The Dark Knight Rises\tTaiwan\t2020-05-29\n",
    "The Lord of the Rings: The Fellowship of the Ring\tTaiwan\t2021-04-29\n",
    "The Lord of the Rings: The Return of the King\tTaiwan\t2021-04-29\n",
    "The Lord of the Rings: The Two Towers\tTaiwan\t2021-04-29\n",
    "```"
   ]
  },
  {
   "cell_type": "code",
   "execution_count": null,
   "metadata": {},
   "outputs": [],
   "source": [
    "answer_1108 =\\\n",
    "\"\"\"\n",
    "-- SQL 語法起點\n",
    "\n",
    "-- SQL 語法終點\n",
    "\"\"\""
   ]
  },
  {
   "cell_type": "markdown",
   "metadata": {},
   "source": [
    "## 1109（程式題）從 `imdb` 資料庫查詢執導電影數量大於等於 5 部的導演，參考下列預期的查詢結果。\n",
    "\n",
    "- 預期輸出：(9, 2) 的查詢結果。\n",
    "\n",
    "```\n",
    "name\tnumber_of_movies\n",
    "Christopher Nolan\t8\n",
    "Steven Spielberg\t7\n",
    "Stanley Kubrick\t7\n",
    "Martin Scorsese\t7\n",
    "Akira Kurosawa\t6\n",
    "Quentin Tarantino\t5\n",
    "Charles Chaplin\t5\n",
    "Billy Wilder\t5\n",
    "Alfred Hitchcock\t5\n",
    "```"
   ]
  },
  {
   "cell_type": "code",
   "execution_count": null,
   "metadata": {},
   "outputs": [],
   "source": [
    "answer_1109 =\\\n",
    "\"\"\"\n",
    "-- SQL 語法起點\n",
    "\n",
    "-- SQL 語法終點\n",
    "\"\"\""
   ]
  },
  {
   "cell_type": "markdown",
   "metadata": {},
   "source": [
    "## 1010（程式題）承上題，從 `imdb` 查詢這 9 位導演所執導的電影，參考下列預期的查詢結果。\n",
    "\n",
    "- 預期輸出：(55, 4) 的查詢結果。\n",
    "\n",
    "```\n",
    "title\tdirected_by\trating\truntime\n",
    "The Dark Knight\tChristopher Nolan\t9\t152\n",
    "Schindler's List\tSteven Spielberg\t9\t195\n",
    "Pulp Fiction\tQuentin Tarantino\t8.8\t154\n",
    "Inception\tChristopher Nolan\t8.8\t148\n",
    "Goodfellas\tMartin Scorsese\t8.7\t145\n",
    "Interstellar\tChristopher Nolan\t8.7\t169\n",
    "Seven Samurai\tAkira Kurosawa\t8.6\t207\n",
    "Saving Private Ryan\tSteven Spielberg\t8.6\t169\n",
    "Psycho\tAlfred Hitchcock\t8.5\t109\n",
    "The Departed\tMartin Scorsese\t8.5\t151\n",
    "The Prestige\tChristopher Nolan\t8.5\t130\n",
    "Modern Times\tCharles Chaplin\t8.5\t87\n",
    "Rear Window\tAlfred Hitchcock\t8.5\t112\n",
    "Django Unchained\tQuentin Tarantino\t8.5\t165\n",
    "City Lights\tCharles Chaplin\t8.5\t87\n",
    "Memento\tChristopher Nolan\t8.4\t113\n",
    "Raiders of the Lost Ark\tSteven Spielberg\t8.4\t115\n",
    "Sunset Boulevard\tBilly Wilder\t8.4\t110\n",
    "Witness for the Prosecution\tBilly Wilder\t8.4\t116\n",
    "Paths of Glory\tStanley Kubrick\t8.4\t88\n",
    "The Shining\tStanley Kubrick\t8.4\t146\n",
    "The Great Dictator\tCharles Chaplin\t8.4\t125\n",
    "Inglourious Basterds\tQuentin Tarantino\t8.4\t153\n",
    "The Dark Knight Rises\tChristopher Nolan\t8.4\t164\n",
    "Dr\tStanley Kubrick\t8.3\t95\n",
    "High and Low\tAkira Kurosawa\t8.4\t143\n",
    "Ikiru\tAkira Kurosawa\t8.3\t143\n",
    "2001: A Space Odyssey\tStanley Kubrick\t8.3\t149\n",
    "The Apartment\tBilly Wilder\t8.3\t125\n",
    "Reservoir Dogs\tQuentin Tarantino\t8.3\t99\n",
    "Double Indemnity\tBilly Wilder\t8.3\t107\n",
    "North by Northwest\tAlfred Hitchcock\t8.3\t136\n",
    "Full Metal Jacket\tStanley Kubrick\t8.2\t116\n",
    "Vertigo\tAlfred Hitchcock\t8.2\t128\n",
    "A Clockwork Orange\tStanley Kubrick\t8.2\t136\n",
    "Indiana Jones and the Last Crusade\tSteven Spielberg\t8.2\t127\n",
    "Oppenheimer\tChristopher Nolan\t8.3\t180\n",
    "The Wolf of Wall Street\tMartin Scorsese\t8.2\t180\n",
    "Taxi Driver\tMartin Scorsese\t8.2\t114\n",
    "Batman Begins\tChristopher Nolan\t8.2\t140\n",
    "Some Like It Hot\tBilly Wilder\t8.2\t121\n",
    "Shutter Island\tMartin Scorsese\t8.2\t138\n",
    "The Kid\tCharles Chaplin\t8.2\t68\n",
    "Jurassic Park\tSteven Spielberg\t8.2\t127\n",
    "Ran\tAkira Kurosawa\t8.2\t160\n",
    "Casino\tMartin Scorsese\t8.2\t178\n",
    "Kill Bill: Vol\tQuentin Tarantino\t8.2\t111\n",
    "Yojimbo\tAkira Kurosawa\t8.2\t110\n",
    "Dial M for Murder\tAlfred Hitchcock\t8.2\t105\n",
    "Rashomon\tAkira Kurosawa\t8.2\t88\n",
    "Catch Me If You Can\tSteven Spielberg\t8.1\t141\n",
    "Raging Bull\tMartin Scorsese\t8.1\t129\n",
    "Barry Lyndon\tStanley Kubrick\t8.1\t185\n",
    "The Gold Rush\tCharles Chaplin\t8.1\t95\n",
    "Jaws\tSteven Spielberg\t8.1\t124\n",
    "```"
   ]
  },
  {
   "cell_type": "code",
   "execution_count": null,
   "metadata": {},
   "outputs": [],
   "source": [
    "answer_1110 =\\\n",
    "\"\"\"\n",
    "-- SQL 語法起點\n",
    "\n",
    "-- SQL 語法終點\n",
    "\"\"\""
   ]
  },
  {
   "cell_type": "markdown",
   "metadata": {
    "deletable": false
   },
   "source": [
    "## 執行測試！\n",
    "\n",
    "點選右上角 Connect，然後點選上方選單的 Runtime -> Restart and run all -> Yes -> Run anyway。"
   ]
  },
  {
   "cell_type": "code",
   "execution_count": null,
   "metadata": {
    "deletable": false
   },
   "outputs": [],
   "source": [
    "class TestChapter11(unittest.TestCase):\n",
    "    def test_1101(self):\n",
    "        self.assertEqual(answer_1101, 1)\n",
    "    def test_1102(self):\n",
    "        self.assertEqual(answer_1102, 0)\n",
    "    def test_1103(self):\n",
    "        self.assertEqual(answer_1103, 4)\n",
    "    def test_1104(self):\n",
    "        self.assertEqual(answer_1104, 2)\n",
    "    def test_1105(self):\n",
    "        self.assertEqual(answer_1105, 5)\n",
    "    def test_1106(self):\n",
    "        df = pd.read_sql(answer_1106, conn)\n",
    "        self.assertEqual(df.shape, (6, 4))\n",
    "        self.assertIn(\"The Dark Knight\", df.iloc[:, 0].values)\n",
    "        self.assertIn(\"The Dark Knight Rises\", df.iloc[:, 0].values)\n",
    "        self.assertIn(\"Batman Begins\", df.iloc[:, 0].values)\n",
    "        self.assertIn(\"Christopher Nolan\", df.iloc[:, 1].values)\n",
    "        self.assertIn(\"Hayao Miyazaki\", df.iloc[:, 1].values)\n",
    "        self.assertIn(\"Christian Bale\", df.iloc[:, 2].values)\n",
    "        self.assertIn(\"PG-13\", df.iloc[:, 3].values)\n",
    "        self.assertIn(\"PG\", df.iloc[:, 3].values)\n",
    "    def test_1107(self):\n",
    "        df = pd.read_sql(answer_1107, conn)\n",
    "        self.assertEqual(df.shape, (27, 5))\n",
    "        self.assertIn(\"The Shawshank Redemption\", df.iloc[:, 0].values)\n",
    "        self.assertIn(\"Inception\", df.iloc[:, 0].values)\n",
    "        self.assertTrue(df.iloc[:, 1].min() > 8.7)\n",
    "        self.assertIn(\"Christopher Nolan\", df.iloc[:, 2].values)\n",
    "        self.assertIn(\"Frank Darabont\", df.iloc[:, 2].values)\n",
    "        self.assertIn(\"Taiwan\", df.iloc[:, 3].values)\n",
    "    def test_1108(self):\n",
    "        df = pd.read_sql(answer_1108, conn)\n",
    "        self.assertEqual(df.shape, (6, 3))\n",
    "        self.assertIn(\"The Lord of the Rings: The Fellowship of the Ring\", df.iloc[:, 0].values)\n",
    "        self.assertIn(\"The Lord of the Rings: The Two Towers\", df.iloc[:, 0].values)\n",
    "        self.assertIn(\"The Lord of the Rings: The Return of the King\", df.iloc[:, 0].values)\n",
    "        self.assertIn(\"Batman Begins\", df.iloc[:, 0].values)\n",
    "        self.assertIn(\"The Dark Knight\", df.iloc[:, 0].values)\n",
    "        self.assertIn(\"The Dark Knight Rises\", df.iloc[:, 0].values)\n",
    "        self.assertIn(\"Taiwan\", df.iloc[:, 1].values)\n",
    "        self.assertIn(\"2020-05-29\", df.iloc[:, 2].values)\n",
    "        self.assertIn(\"2021-04-29\", df.iloc[:, 2].values)\n",
    "    def test_1109(self):\n",
    "        df = pd.read_sql(answer_1109, conn)\n",
    "        self.assertEqual(df.shape, (9, 2))\n",
    "        self.assertIn(\"Christopher Nolan\", df.iloc[:, 0].values)\n",
    "        self.assertIn(\"Steven Spielberg\", df.iloc[:, 0].values)\n",
    "        self.assertIn(\"Quentin Tarantino\", df.iloc[:, 0].values)\n",
    "        self.assertIn(\"Akira Kurosawa\", df.iloc[:, 0].values)\n",
    "        self.assertTrue(df.iloc[:, 1].astype(int).min() > 4)\n",
    "    def test_1110(self):\n",
    "        df = pd.read_sql(answer_1110, conn)\n",
    "        self.assertEqual(df.shape, (55, 4))\n",
    "        self.assertIn(\"The Dark Knight\", df.iloc[:, 0].values)\n",
    "        self.assertIn(\"Schindler's List\", df.iloc[:, 0].values)\n",
    "        self.assertIn(\"Christopher Nolan\", df.iloc[:, 1].values)\n",
    "        self.assertIn(\"Steven Spielberg\", df.iloc[:, 1].values)\n",
    "        self.assertTrue(df.iloc[:, 2].min() > 8)\n",
    "        self.assertTrue(df.iloc[:, 2].max() < 9.1)\n",
    "        \n",
    "suite = unittest.TestLoader().loadTestsFromTestCase(TestChapter11)\n",
    "runner = unittest.TextTestRunner(verbosity=2)\n",
    "test_results = runner.run(suite)\n",
    "number_of_failures = len(test_results.failures)\n",
    "number_of_errors = len(test_results.errors)\n",
    "number_of_test_runs = test_results.testsRun\n",
    "number_of_successes = number_of_test_runs - (number_of_failures + number_of_errors)\n",
    "chapter_index = 11\n",
    "chapter_name = \"綜合練習題\""
   ]
  },
  {
   "cell_type": "code",
   "execution_count": null,
   "metadata": {
    "deletable": false
   },
   "outputs": [],
   "source": [
    "print(f\"您在第 {chapter_index:02} 章「{chapter_name}」的 {number_of_test_runs} 道練習中答對了 {number_of_successes} 題。\")"
   ]
  }
 ],
 "metadata": {
  "celltoolbar": "Edit Metadata",
  "kernelspec": {
   "display_name": "Python 3 (ipykernel)",
   "language": "python",
   "name": "python3"
  },
  "language_info": {
   "codemirror_mode": {
    "name": "ipython",
    "version": 3
   },
   "file_extension": ".py",
   "mimetype": "text/x-python",
   "name": "python",
   "nbconvert_exporter": "python",
   "pygments_lexer": "ipython3",
   "version": "3.12.7"
  }
 },
 "nbformat": 4,
 "nbformat_minor": 4
}
