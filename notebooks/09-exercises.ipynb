{
 "cells": [
  {
   "cell_type": "markdown",
   "metadata": {
    "deletable": false
   },
   "source": [
    "# SQL 的五十道練習\n",
    "\n",
    "> 子查詢與通用資料表運算式\n",
    "\n",
    "[郭耀仁](https://hahow.in/@tonykuoyj) |  <yaojenkuo@datainpoint.com>"
   ]
  },
  {
   "cell_type": "markdown",
   "metadata": {
    "deletable": false
   },
   "source": [
    "## 練習題指引\n",
    "\n",
    "- 開始寫作之前，可以先按上方「Copy to Drive」按鈕將筆記本複製到自己的 Google 雲端硬碟。\n",
    "- 練習題共分為三種：是非題、單選題以及程式題。\n",
    "- 是非題：預設答案為 `None`，若覺得敘述**不正確**，就將 `None` 改寫為 `0`，覺得敘述**正確**，就將 `None` 改寫為 `1`\n",
    "- 單選題：覺得第一個選項**正確**，就將 `None` 改寫為 `1`，覺得第二個選項**正確**，就將 `None` 改寫為 `2`，覺得第三個選項**正確**，就將 `None` 改寫 `3`，覺得第四個選項**正確**，就將 `None` 改寫 `4`\n",
    "- 程式題：\n",
    "    - 在 SQL 語法起點與 SQL 語法終點這兩列註解之間撰寫能夠得到預期結果的 SQL。\n",
    "    - 我們已經將兩個學習資料庫載入環境，SQL 可以直接指定兩個學習資料庫中的資料表，不需要額外指定資料庫。\n",
    "    - 可以先在自己電腦的 SQLiteStudio 或者 DB Browser for SQLite 寫出跟預期結果相同的 SQL 後再複製貼上到練習題。\n",
    "- 執行測試的方式為點選右上角 Connect，然後點選上方選單的 Runtime -> Restart and run all -> Yes -> Run anyway。\n",
    "- 移動到 Google Colab 的最後一個儲存格看測試結果。"
   ]
  },
  {
   "cell_type": "code",
   "execution_count": null,
   "metadata": {},
   "outputs": [],
   "source": [
    "!wget -N https://github.com/datainpoint/classroom-hahow-sqlfifty-2025/raw/refs/heads/main/covid19/covid19.db\n",
    "!wget -N https://github.com/datainpoint/classroom-hahow-sqlfifty-2025/raw/refs/heads/main/imdb/imdb.db"
   ]
  },
  {
   "cell_type": "code",
   "execution_count": null,
   "metadata": {
    "deletable": false
   },
   "outputs": [],
   "source": [
    "import sqlite3\n",
    "import unittest\n",
    "import os\n",
    "import pandas as pd\n",
    "conn = sqlite3.connect('imdb.db')\n",
    "conn.execute(\"\"\"ATTACH 'covid19.db' AS covid19\"\"\")"
   ]
  },
  {
   "cell_type": "markdown",
   "metadata": {},
   "source": [
    "## 0901（是非題）初學子查詢可先寫出分段查詢，再以「後向推導」的方式寫出子查詢"
   ]
  },
  {
   "cell_type": "code",
   "execution_count": null,
   "metadata": {},
   "outputs": [],
   "source": [
    "answer_0901 = None"
   ]
  },
  {
   "cell_type": "markdown",
   "metadata": {},
   "source": [
    "## 0902（單選題）下列敘述何者有誤？\n",
    "\n",
    "1. 使用 `WITH` 敘述可以建立通用資料表運算式。\n",
    "2. 通用資料表運算式可以不必在同一個 SQL 敘述中進行定義與使用。\n",
    "3. 我們可以將通用資料表運算式視為一種暫存的資料表。\n",
    "4. 子查詢可以將先執行的內層查詢作為像變數一般的存在，供後執行的外層查詢使用。"
   ]
  },
  {
   "cell_type": "code",
   "execution_count": null,
   "metadata": {},
   "outputs": [],
   "source": [
    "answer_0902 = None"
   ]
  },
  {
   "cell_type": "markdown",
   "metadata": {},
   "source": [
    "## 0903（單選題）通用資料表運算式的英文全名為何？\n",
    "\n",
    "1. Common Table Execution, CTE.\n",
    "2. Calculated Table Execution, CTE.\n",
    "3. Common Table Expression, CTE.\n",
    "4. Cumulative Table Expression, CTE。"
   ]
  },
  {
   "cell_type": "code",
   "execution_count": null,
   "metadata": {},
   "outputs": [],
   "source": [
    "answer_0903 = None"
   ]
  },
  {
   "cell_type": "markdown",
   "metadata": {},
   "source": [
    "## 0904（程式題）從 `imdb` 資料庫運用子查詢找出電影 Gone with the Wind 的上映資訊，參考下列預期的查詢結果。\n",
    "\n",
    "- 預期輸出：(158, 2) 的查詢結果。\n",
    "\n",
    "```\n",
    "country\treleased_on\n",
    "United States\t1939-12-15\n",
    "United States\t1939-12-19\n",
    "United States\t1939-12-28\n",
    "Cameroon\t1939-12-29\n",
    "Cameroon\t1939-12-29\n",
    "Cameroon\t1940-01-05\n",
    "United States\t1940-01-17\n",
    "Chile\t1940-01-18\n",
    "Cameroon\t1940-01-19\n",
    "Canada\t1940-02-16\n",
    "Philippines\t1940-03-01\n",
    "South Africa\t1940-04-12\n",
    "United Kingdom\t1940-04-18\n",
    "Australia\t1940-04-30\n",
    "Australia\t1940-05-01\n",
    "South Africa\t1940-07-05\n",
    "Brazil\t1940-09-12\n",
    "Brazil\t1940-09-19\n",
    "Uruguay\t1940-09-25\n",
    "Argentina\t1940-09-26\n",
    "Peru\t1940-10-10\n",
    "Mexico\t1941-01-22\n",
    "Dominican Republic\t1941-04-25\n",
    "Sweden\t1941-10-06\n",
    "United States\t1942-03-31\n",
    "Ireland\t1942-09-04\n",
    "Ireland\t1943-03-26\n",
    "Portugal\t1943-09-20\n",
    "France\t1944-08-22\n",
    "Belgium\t1945-04-17\n",
    "United States\t1947-08-21\n",
    "Norway\t1947-12-15\n",
    "South Africa\t1948-11-25\n",
    "Belgium\t1949-03-03\n",
    "Netherlands\t1949-03-03\n",
    "Italy\t1949-03-12\n",
    "Italy\t1949-03-17\n",
    "Hong Kong\t1949-06-16\n",
    "Turkey\t1950-01-01\n",
    "France\t1950-05-20\n",
    "Australia\t1950-06-02\n",
    "Netherlands\t1950-06-20\n",
    "Finland\t1950-09-15\n",
    "Spain\t1950-11-17\n",
    "Spain\t1950-11-17\n",
    "Spain\t1951-03-24\n",
    "Italy\t1951-11-03\n",
    "Taiwan\t1952-04-25\n",
    "Philippines\t1952-05-20\n",
    "Japan\t1952-09-04\n",
    "Turkey\t1953-01-14\n",
    "West Germany\t1953-01-15\n",
    "Austria\t1953-01-30\n",
    "Greece\t1953-02-02\n",
    "United States\t1954-06-03\n",
    "Slovenia\t1954-09-05\n",
    "France\t1954-09-15\n",
    "South Korea\t1957-03-25\n",
    "Denmark\t1958-09-09\n",
    "Taiwan\t1959-12-27\n",
    "United States\t1961-03-10\n",
    "Spain\t1961-12-11\n",
    "Finland\t1961-12-29\n",
    "Spain\t1962-10-15\n",
    "Poland\t1963-01-01\n",
    "Australia\t1967-03-25\n",
    "Brazil\t1967-09-18\n",
    "United States\t1967-10-10\n",
    "United States\t1967-10-14\n",
    "Argentina\t1967-11-01\n",
    "Philippines\t1967-12-27\n",
    "Chile\t1967-12-28\n",
    "Cameroon\t1967-12-29\n",
    "France\t1968-05-10\n",
    "Uruguay\t1968-09-05\n",
    "United Kingdom\t1968-09-10\n",
    "Belgium\t1968-11-14\n",
    "Ireland\t1968-12-20\n",
    "United Kingdom\t1969-03-12\n",
    "Netherlands\t1969-04-03\n",
    "France\t1969-04-11\n",
    "Spain\t1970-10-09\n",
    "Spain\t1970-10-22\n",
    "Japan\t1972-02-05\n",
    "Brazil\t1972-02-28\n",
    "Portugal\t1972-07-21\n",
    "Turkey\t1974-02-01\n",
    "United States\t1974-09-18\n",
    "Brazil\t1976-04-19\n",
    "United States\t1976-06-11\n",
    "Japan\t1976-08-28\n",
    "Finland\t1977-02-11\n",
    "Italy\t1977-11-10\n",
    "Spain\t1980-05-29\n",
    "Portugal\t1980-06-04\n",
    "Australia\t1981-05-22\n",
    "Australia\t1983-07-21\n",
    "Brazil\t1983-09-09\n",
    "Spain\t1986-06-27\n",
    "United States\t1989-02-03\n",
    "Australia\t1989-08-17\n",
    "Spain\t1989-11-03\n",
    "West Germany\t1990-03-29\n",
    "Soviet Union\t1990-10-19\n",
    "Estonia\t1990-12-24\n",
    "Czechoslovakia\t1992-01-12\n",
    "Philippines\t1993-06-23\n",
    "Japan\t1994-08-06\n",
    "South Korea\t1995-05-05\n",
    "United States\t1998-06-26\n",
    "Australia\t1999-05-13\n",
    "Argentina\t1999-08-05\n",
    "Japan\t1999-10-16\n",
    "New Zealand\t2000-01-28\n",
    "Singapore\t2000-03-07\n",
    "Spain\t2001-07-13\n",
    "Russia\t2002-08-01\n",
    "France\t2003-10-01\n",
    "Poland\t2004-12-03\n",
    "Japan\t2005-12-28\n",
    "United Arab Emirates\t2008-05-14\n",
    "Indonesia\t2008-12-31\n",
    "Poland\t2009-02-27\n",
    "Israel\t2010-04-13\n",
    "Japan\t2010-10-30\n",
    "United Kingdom\t2013-11-22\n",
    "Peru\t2014-09-04\n",
    "United States\t2014-09-28\n",
    "United States\t2014-09-28\n",
    "Mexico\t2014-10-18\n",
    "Mexico\t2014-10-30\n",
    "Italy\t2014-11-29\n",
    "Netherlands\t2014-12-18\n",
    "China\t2015-06-13\n",
    "China\t2017-04-15\n",
    "Argentina\t2017-04-20\n",
    "China\t2019-04-08\n",
    "Taiwan\t2019-04-12\n",
    "Taiwan\t2019-08-30\n",
    "India\t2020-07-08\n",
    "Egypt\t2021-05-27\n",
    "China\t2023-06-09\n",
    "Cambodia\t2023-12-06\n",
    "Argentina\t2023-12-08\n",
    "Aruba\t2023-12-08\n",
    "Canada\t2023-12-08\n",
    "Chile\t2023-12-08\n",
    "Cameroon\t2023-12-08\n",
    "France\t2023-12-08\n",
    "United Kingdom\t2023-12-08\n",
    "Ireland\t2023-12-08\n",
    "Italy\t2023-12-08\n",
    "Peru\t2023-12-08\n",
    "Philippines\t2023-12-08\n",
    "Sweden\t2023-12-08\n",
    "United States\t2023-12-08\n",
    "Cameroon\t2023-12-29\n",
    "Taiwan\t2024-07-22\n",
    "```"
   ]
  },
  {
   "cell_type": "code",
   "execution_count": null,
   "metadata": {},
   "outputs": [],
   "source": [
    "answer_0904 =\\\n",
    "\"\"\"\n",
    "-- SQL 語法起點\n",
    "\n",
    "-- SQL 語法終點\n",
    "\"\"\""
   ]
  },
  {
   "cell_type": "markdown",
   "metadata": {},
   "source": [
    "## 0905（程式題）從 `imdb` 資料庫運用子查詢找出有演員 Leonardo DiCaprio 出演的電影、由 Christopher Nolan 執導的電影，參考下列預期的查詢結果。\n",
    "\n",
    "- 預期輸出：(13, 1) 的查詢結果。\n",
    "\n",
    "```\n",
    "title\n",
    "Inception\n",
    "The Departed\n",
    "Django Unchained\n",
    "The Wolf of Wall Street\n",
    "Shutter Island\n",
    "Catch Me If You Can\n",
    "The Dark Knight\n",
    "Interstellar\n",
    "The Prestige\n",
    "Memento\n",
    "The Dark Knight Rises\n",
    "Oppenheimer\n",
    "Batman Begins\n",
    "```"
   ]
  },
  {
   "cell_type": "code",
   "execution_count": null,
   "metadata": {},
   "outputs": [],
   "source": [
    "answer_0905 =\\\n",
    "\"\"\"\n",
    "-- SQL 語法起點\n",
    "\n",
    "-- SQL 語法終點\n",
    "\"\"\""
   ]
  },
  {
   "cell_type": "markdown",
   "metadata": {},
   "source": [
    "## 0906（程式題）從 `imdb` 資料庫運用通用資料表運算式計算 MPA 評等為 G 的電影佔所有電影的比例，參考下列預期的查詢結果。\n",
    "\n",
    "- 預期輸出：(1, 1) 的查詢結果。\n",
    "\n",
    "```\n",
    "percentage\n",
    "7.2%\n",
    "```"
   ]
  },
  {
   "cell_type": "code",
   "execution_count": null,
   "metadata": {},
   "outputs": [],
   "source": [
    "answer_0906 =\\\n",
    "\"\"\"\n",
    "-- SQL 語法起點\n",
    "\n",
    "-- SQL 語法終點\n",
    "\"\"\""
   ]
  },
  {
   "cell_type": "markdown",
   "metadata": {},
   "source": [
    "## 0907（程式題）從 `covid19` 資料庫的 `geographics` 資料表將 `province_state` 欄位為 `NULL` 以及 `population` 大於 1 億的資料篩選出來，參考下列預期的查詢結果。\n",
    "\n",
    "- 預期輸出：(14, 2) 的查詢結果。\n",
    "\n",
    "```\n",
    "population\tiso_code_id\n",
    "164689383\t18\n",
    "212559409\t30\n",
    "1411778724\t45\n",
    "102334403\t61\n",
    "114963583\t65\n",
    "273523621\t95\n",
    "1380004385\t99\n",
    "126476458\t107\n",
    "127792286\t150\n",
    "206139587\t156\n",
    "109581085\t169\n",
    "220892331\t170\n",
    "145934460\t183\n",
    "329466283\t220\n",
    "```"
   ]
  },
  {
   "cell_type": "code",
   "execution_count": null,
   "metadata": {},
   "outputs": [],
   "source": [
    "answer_0907 =\\\n",
    "\"\"\"\n",
    "-- SQL 語法起點\n",
    "\n",
    "-- SQL 語法終點\n",
    "\"\"\""
   ]
  },
  {
   "cell_type": "markdown",
   "metadata": {},
   "source": [
    "## 0908（程式題）承上題，從 `covid19` 資料庫運用子查詢找出人口數超過 1 億的國家 `iso2` 與 `iso3`，參考下列預期的查詢結果。\n",
    "\n",
    "- 預期輸出：(14, 2) 的查詢結果。\n",
    "\n",
    "```\n",
    "iso2\tiso3\n",
    "BD\tBGD\n",
    "BR\tBRA\n",
    "CN\tCHN\n",
    "EG\tEGY\n",
    "ET\tETH\n",
    "ID\tIDN\n",
    "IN\tIND\n",
    "JP\tJPN\n",
    "MX\tMEX\n",
    "NG\tNGA\n",
    "PH\tPHL\n",
    "PK\tPAK\n",
    "RU\tRUS\n",
    "US\tUSA\n",
    "```"
   ]
  },
  {
   "cell_type": "code",
   "execution_count": null,
   "metadata": {},
   "outputs": [],
   "source": [
    "answer_0908 =\\\n",
    "\"\"\"\n",
    "-- SQL 語法起點\n",
    "\n",
    "-- SQL 語法終點\n",
    "\"\"\""
   ]
  },
  {
   "cell_type": "markdown",
   "metadata": {},
   "source": [
    "## 0909（程式題）承上題，從 `covid19` 資料庫運用通用資料表運算式找出人口數超過 1 億的國家人口數佔全世界人口數比例，參考下列預期的查詢結果。\n",
    "\n",
    "- 預期輸出：(1, 1) 的查詢結果。\n",
    "\n",
    "```\n",
    "percentage\n",
    "63.6%\n",
    "```"
   ]
  },
  {
   "cell_type": "code",
   "execution_count": null,
   "metadata": {},
   "outputs": [],
   "source": [
    "answer_0909 =\\\n",
    "\"\"\"\n",
    "-- SQL 語法起點\n",
    "\n",
    "-- SQL 語法終點\n",
    "\"\"\""
   ]
  },
  {
   "cell_type": "markdown",
   "metadata": {
    "deletable": false
   },
   "source": [
    "## 執行測試！\n",
    "\n",
    "點選右上角 Connect，然後點選上方選單的 Runtime -> Restart and run all -> Yes -> Run anyway。"
   ]
  },
  {
   "cell_type": "code",
   "execution_count": null,
   "metadata": {
    "deletable": false
   },
   "outputs": [],
   "source": [
    "class TestChapter09(unittest.TestCase):\n",
    "    def test_0901(self):\n",
    "        self.assertEqual(answer_0901, 1)\n",
    "    def test_0902(self):\n",
    "        self.assertEqual(answer_0902, 2)\n",
    "    def test_0903(self):\n",
    "        self.assertEqual(answer_0903, 3)\n",
    "    def test_0904(self):\n",
    "        df = pd.read_sql(answer_0904, conn)\n",
    "        self.assertEqual(df.shape, (158, 2))\n",
    "        self.assertIn(\"Taiwan\", df.iloc[:, 0].values)\n",
    "        self.assertIn(\"2024-07-22\", df.iloc[:, 1].astype(str).values)\n",
    "        self.assertIn(\"1952-04-25\", df.iloc[:, 1].astype(str).values)\n",
    "    def test_0905(self):\n",
    "        df = pd.read_sql(answer_0905, conn)\n",
    "        self.assertEqual(df.shape, (13, 1))\n",
    "        self.assertIn(\"Inception\", df.iloc[:, 0].values)\n",
    "        self.assertIn(\"The Dark Knight\", df.iloc[:, 0].values)\n",
    "        self.assertIn(\"Oppenheimer\", df.iloc[:, 0].values)\n",
    "        self.assertIn(\"The Wolf of Wall Street\", df.iloc[:, 0].values)\n",
    "    def test_0906(self):\n",
    "        df = pd.read_sql(answer_0906, conn)\n",
    "        self.assertEqual(df.shape, (1, 1))\n",
    "        self.assertEqual(\"7.2%\", df.iloc[0, 0])\n",
    "    def test_0907(self):\n",
    "        df = pd.read_sql(answer_0907, conn)\n",
    "        self.assertEqual(df.shape, (14, 2))\n",
    "        self.assertTrue(df.iloc[:, 0].min() > 100000000)\n",
    "        self.assertTrue(df.iloc[:, 0].max() > 1000000000)\n",
    "    def test_0908(self):\n",
    "        df = pd.read_sql(answer_0908, conn)\n",
    "        self.assertEqual(df.shape, (14, 2))\n",
    "        self.assertIn(\"US\", df.iloc[:, 0].values)\n",
    "        self.assertIn(\"JP\", df.iloc[:, 0].values)\n",
    "        self.assertIn(\"PH\", df.iloc[:, 0].values)\n",
    "    def test_0909(self):\n",
    "        df = pd.read_sql(answer_0909, conn)\n",
    "        self.assertEqual(df.shape, (1, 1))\n",
    "        self.assertEqual(\"63.6%\", df.iloc[0, 0])\n",
    "        \n",
    "suite = unittest.TestLoader().loadTestsFromTestCase(TestChapter09)\n",
    "runner = unittest.TextTestRunner(verbosity=2)\n",
    "test_results = runner.run(suite)\n",
    "number_of_failures = len(test_results.failures)\n",
    "number_of_errors = len(test_results.errors)\n",
    "number_of_test_runs = test_results.testsRun\n",
    "number_of_successes = number_of_test_runs - (number_of_failures + number_of_errors)\n",
    "chapter_index = 9\n",
    "chapter_name = \"子查詢與通用資料表運算式\""
   ]
  },
  {
   "cell_type": "code",
   "execution_count": null,
   "metadata": {
    "deletable": false
   },
   "outputs": [],
   "source": [
    "print(f\"您在第 {chapter_index:02} 章「{chapter_name}」的 {number_of_test_runs} 道練習中答對了 {number_of_successes} 題。\")"
   ]
  }
 ],
 "metadata": {
  "celltoolbar": "Edit Metadata",
  "kernelspec": {
   "display_name": "Python 3 (ipykernel)",
   "language": "python",
   "name": "python3"
  },
  "language_info": {
   "codemirror_mode": {
    "name": "ipython",
    "version": 3
   },
   "file_extension": ".py",
   "mimetype": "text/x-python",
   "name": "python",
   "nbconvert_exporter": "python",
   "pygments_lexer": "ipython3",
   "version": "3.12.7"
  }
 },
 "nbformat": 4,
 "nbformat_minor": 4
}
