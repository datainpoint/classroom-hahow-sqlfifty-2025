{
 "cells": [
  {
   "cell_type": "markdown",
   "metadata": {
    "deletable": false
   },
   "source": [
    "# SQL 的五十道練習\n",
    "\n",
    "> 關聯資料表\n",
    "\n",
    "[郭耀仁](https://hahow.in/@tonykuoyj) |  <yaojenkuo@datainpoint.com>"
   ]
  },
  {
   "cell_type": "markdown",
   "metadata": {
    "deletable": false
   },
   "source": [
    "## 練習題指引\n",
    "\n",
    "- 開始寫作之前，可以先按上方「Copy to Drive」按鈕將筆記本複製到自己的 Google 雲端硬碟。\n",
    "- 練習題共分為三種：是非題、單選題以及程式題。\n",
    "- 是非題：預設答案為 `None`，若覺得敘述**不正確**，就將 `None` 改寫為 `0`，覺得敘述**正確**，就將 `None` 改寫為 `1`\n",
    "- 單選題：覺得第一個選項**正確**，就將 `None` 改寫為 `1`，覺得第二個選項**正確**，就將 `None` 改寫為 `2`，覺得第三個選項**正確**，就將 `None` 改寫 `3`，覺得第四個選項**正確**，就將 `None` 改寫 `4`\n",
    "- 程式題：\n",
    "    - 在 SQL 語法起點與 SQL 語法終點這兩列註解之間撰寫能夠得到預期結果的 SQL。\n",
    "    - 我們已經將兩個學習資料庫載入環境，SQL 可以直接指定兩個學習資料庫中的資料表，不需要額外指定資料庫。\n",
    "    - 可以先在自己電腦的 SQLiteStudio 或者 DB Browser for SQLite 寫出跟預期結果相同的 SQL 後再複製貼上到練習題。\n",
    "- 執行測試的方式為點選右上角 Connect，然後點選上方選單的 Runtime -> Restart and run all -> Yes -> Run anyway。\n",
    "- 移動到 Google Colab 的最後一個儲存格看測試結果。"
   ]
  },
  {
   "cell_type": "code",
   "execution_count": null,
   "metadata": {},
   "outputs": [],
   "source": [
    "!wget -N https://github.com/datainpoint/classroom-hahow-sqlfifty-2025/raw/refs/heads/main/covid19/covid19.db\n",
    "!wget -N https://github.com/datainpoint/classroom-hahow-sqlfifty-2025/raw/refs/heads/main/imdb/imdb.db"
   ]
  },
  {
   "cell_type": "code",
   "execution_count": null,
   "metadata": {
    "deletable": false
   },
   "outputs": [],
   "source": [
    "import sqlite3\n",
    "import unittest\n",
    "import pandas as pd\n",
    "conn = sqlite3.connect('imdb.db')\n",
    "conn.execute(\"\"\"ATTACH 'covid19.db' AS covid19\"\"\")"
   ]
  },
  {
   "cell_type": "markdown",
   "metadata": {},
   "source": [
    "## 1001（是非題）使用 `JOIN` 與 `FULL JOIN` 的時候，左資料表（在 `FROM` 之後）或右資料表（在 `JOIN` 之後）的指定沒有差別。"
   ]
  },
  {
   "cell_type": "code",
   "execution_count": null,
   "metadata": {},
   "outputs": [],
   "source": [
    "answer_1001 = None"
   ]
  },
  {
   "cell_type": "markdown",
   "metadata": {},
   "source": [
    "## 1002（是非題）使用 `LEFT JOIN` 與 `RIGHT JOIN` 的時候，左資料表（在 `FROM` 之後）或右資料表（在 `JOIN` 之後）的指定沒有差別。"
   ]
  },
  {
   "cell_type": "code",
   "execution_count": null,
   "metadata": {},
   "outputs": [],
   "source": [
    "answer_1002 = None"
   ]
  },
  {
   "cell_type": "markdown",
   "metadata": {},
   "source": [
    "## 1003（是非題）使用任何的連接類型時，`ON` 之後左資料表的連接鍵或右資料表的連接鍵在書寫順序上沒有差別。"
   ]
  },
  {
   "cell_type": "code",
   "execution_count": null,
   "metadata": {},
   "outputs": [],
   "source": [
    "answer_1003 = None"
   ]
  },
  {
   "cell_type": "markdown",
   "metadata": {},
   "source": [
    "## 1004（單選題）下列有關於 `UNION` 的敘述何者有誤？\n",
    "\n",
    "1. `UNION` 前後敘述所選擇的欄位數要相同。\n",
    "2. 若有使用到 `ORDER BY` 只能放在 `UNION` 之後。\n",
    "3. `UNION ALL` 會省略重複觀測值。\n",
    "4. 簡單來說，就是將觀測值垂直合併至同一個查詢結果。"
   ]
  },
  {
   "cell_type": "code",
   "execution_count": null,
   "metadata": {},
   "outputs": [],
   "source": [
    "answer_1004 = None"
   ]
  },
  {
   "cell_type": "markdown",
   "metadata": {},
   "source": [
    "## 1005（單選題）下列何者是 SQLite 支援的連結類型？\n",
    "\n",
    "1. 內部連結 `JOIN`\n",
    "2. 左連結 `LEFT JOIN`\n",
    "3. 右連結 `RIGHT JOIN`\n",
    "4. 全連結 `FULL JOIN`\n",
    "5. 以上皆是。"
   ]
  },
  {
   "cell_type": "code",
   "execution_count": null,
   "metadata": {},
   "outputs": [],
   "source": [
    "answer_1005 = None"
   ]
  },
  {
   "cell_type": "markdown",
   "metadata": {},
   "source": [
    "## 1006（程式題）從 `imdb` 資料庫查詢電影 Avengers: Infinity War 以及 Avengers: Endgame 的導演，參考下列預期的查詢結果。\n",
    "\n",
    "- 預期輸出：(4, 2) 的查詢結果。\n",
    "\n",
    "```\n",
    "title\tname\n",
    "Avengers: Infinity War\tAnthony Russo\n",
    "Avengers: Infinity War\tJoe Russo\n",
    "Avengers: Endgame\tAnthony Russo\n",
    "Avengers: Endgame\tJoe Russo\n",
    "```"
   ]
  },
  {
   "cell_type": "code",
   "execution_count": null,
   "metadata": {},
   "outputs": [],
   "source": [
    "answer_1006 =\\\n",
    "\"\"\"\n",
    "-- SQL 語法起點\n",
    "\n",
    "-- SQL 語法終點\n",
    "\"\"\""
   ]
  },
  {
   "cell_type": "markdown",
   "metadata": {},
   "source": [
    "## 1007（程式題）從 `imdb` 資料庫查詢導演 Christopher Nolan 與 Steven Spielberg 所執導的電影與其 MPA 評等，參考下列預期的查詢結果。\n",
    "\n",
    "- 預期輸出：(15, 3) 的查詢結果。\n",
    "\n",
    "```\n",
    "name\ttitle\tmpa\n",
    "Christopher Nolan\tThe Dark Knight\tPG-13\n",
    "Christopher Nolan\tInception\tPG-13\n",
    "Christopher Nolan\tInterstellar\tPG-13\n",
    "Christopher Nolan\tThe Prestige\tPG-13\n",
    "Christopher Nolan\tMemento\tR\n",
    "Christopher Nolan\tThe Dark Knight Rises\tPG-13\n",
    "Christopher Nolan\tOppenheimer\tR\n",
    "Christopher Nolan\tBatman Begins\tPG-13\n",
    "Steven Spielberg\tSchindler's List\tR\n",
    "Steven Spielberg\tSaving Private Ryan\tR\n",
    "Steven Spielberg\tRaiders of the Lost Ark\tPG\n",
    "Steven Spielberg\tIndiana Jones and the Last Crusade\tPG-13\n",
    "Steven Spielberg\tJurassic Park\tPG-13\n",
    "Steven Spielberg\tCatch Me If You Can\tPG-13\n",
    "Steven Spielberg\tJaws\tPG\n",
    "```"
   ]
  },
  {
   "cell_type": "code",
   "execution_count": null,
   "metadata": {},
   "outputs": [],
   "source": [
    "answer_1007 =\\\n",
    "\"\"\"\n",
    "-- SQL 語法起點\n",
    "\n",
    "-- SQL 語法終點\n",
    "\"\"\""
   ]
  },
  {
   "cell_type": "markdown",
   "metadata": {},
   "source": [
    "## 1008（程式題）從 `imdb` 資料庫查詢電影魔戒三部曲在台灣的上映日期，參考下列預期的查詢結果。\n",
    "\n",
    "- 預期輸出：(7, 3) 的查詢結果。\n",
    "\n",
    "```\n",
    "title\tcountry\treleased_on\n",
    "The Lord of the Rings: The Fellowship of the Ring\tTaiwan\t2002-01-18\n",
    "The Lord of the Rings: The Two Towers\tTaiwan\t2002-12-19\n",
    "The Lord of the Rings: The Two Towers\tTaiwan\t2002-12-20\n",
    "The Lord of the Rings: The Return of the King\tTaiwan\t2003-12-18\n",
    "The Lord of the Rings: The Return of the King\tTaiwan\t2021-04-29\n",
    "The Lord of the Rings: The Fellowship of the Ring\tTaiwan\t2021-04-29\n",
    "The Lord of the Rings: The Two Towers\tTaiwan\t2021-04-29\n",
    "```"
   ]
  },
  {
   "cell_type": "code",
   "execution_count": null,
   "metadata": {},
   "outputs": [],
   "source": [
    "answer_1008 =\\\n",
    "\"\"\"\n",
    "-- SQL 語法起點\n",
    "\n",
    "-- SQL 語法終點\n",
    "\"\"\""
   ]
  },
  {
   "cell_type": "markdown",
   "metadata": {},
   "source": [
    "## 1009（程式題）從 `covid19` 資料庫查詢台灣在最後一個資料更新日期 2023-03-09 的累計確診人數、累計死亡人數，參考下列預期的查詢結果。\n",
    "\n",
    "- 預期輸出：(1, 6) 的查詢結果。\n",
    "\n",
    "```\n",
    "country_region\tiso2\tiso3\tcumulative_confirmed\tcumulative_deaths\tupdated_on\n",
    "Taiwan\tTW\tTWN\t9970937\t17672\t2023-03-09\n",
    "```"
   ]
  },
  {
   "cell_type": "code",
   "execution_count": null,
   "metadata": {},
   "outputs": [],
   "source": [
    "answer_1009 =\\\n",
    "\"\"\"\n",
    "-- SQL 語法起點\n",
    "\n",
    "-- SQL 語法終點\n",
    "\"\"\""
   ]
  },
  {
   "cell_type": "markdown",
   "metadata": {},
   "source": [
    "## 1010（程式題）從 `covid19` 資料庫查詢全球人口數超過 1 億的國家（排除中國，因為中國的時間序列資料沒有國家統計，僅有省統計）在最後一個資料更新日期 2023-03-09 的累計確診人數、累計死亡人數，參考下列預期的查詢結果。\n",
    "\n",
    "- 預期輸出：(13, 6) 的查詢結果。\n",
    "\n",
    "```\n",
    "country_region\tiso2\tiso3\tcumulative_confirmed\tcumulative_deaths\tupdated_on\n",
    "US\tUS\tUSA\t103802702\t1123836\t2023-03-09\n",
    "India\tIN\tIND\t44690738\t530779\t2023-03-09\n",
    "Brazil\tBR\tBRA\t37076053\t699276\t2023-03-09\n",
    "Japan\tJP\tJPN\t33320438\t72997\t2023-03-09\n",
    "Russia\tRU\tRUS\t22075858\t388478\t2023-03-09\n",
    "Mexico\tMX\tMEX\t7483444\t333188\t2023-03-09\n",
    "Indonesia\tID\tIDN\t6738225\t160941\t2023-03-09\n",
    "Philippines\tPH\tPHL\t4077452\t66188\t2023-03-09\n",
    "Bangladesh\tBD\tBGD\t2037871\t29445\t2023-03-09\n",
    "Pakistan\tPK\tPAK\t1577411\t30644\t2023-03-09\n",
    "Egypt\tEG\tEGY\t515759\t24812\t2023-03-09\n",
    "Ethiopia\tET\tETH\t500116\t7572\t2023-03-09\n",
    "Nigeria\tNG\tNGA\t266598\t3155\t2023-03-09\n",
    "```"
   ]
  },
  {
   "cell_type": "code",
   "execution_count": null,
   "metadata": {},
   "outputs": [],
   "source": [
    "answer_1010 =\\\n",
    "\"\"\"\n",
    "-- SQL 語法起點\n",
    "\n",
    "-- SQL 語法終點\n",
    "\"\"\""
   ]
  },
  {
   "cell_type": "markdown",
   "metadata": {
    "deletable": false
   },
   "source": [
    "## 執行測試！\n",
    "\n",
    "點選右上角 Connect，然後點選上方選單的 Runtime -> Restart and run all -> Yes -> Run anyway。"
   ]
  },
  {
   "cell_type": "code",
   "execution_count": null,
   "metadata": {
    "deletable": false
   },
   "outputs": [],
   "source": [
    "class TestChapter10(unittest.TestCase):\n",
    "    def test_1001(self):\n",
    "        self.assertEqual(answer_1001, 1)\n",
    "    def test_1002(self):\n",
    "        self.assertEqual(answer_1002, 0)\n",
    "    def test_1003(self):\n",
    "        self.assertEqual(answer_1003, 1)\n",
    "    def test_1004(self):\n",
    "        self.assertEqual(answer_1004, 3)\n",
    "    def test_1005(self):\n",
    "        self.assertEqual(answer_1005, 5)\n",
    "    def test_1006(self):\n",
    "        df = pd.read_sql(answer_1006, conn)\n",
    "        self.assertEqual(df.shape, (4, 2))\n",
    "        self.assertIn(\"Avengers: Infinity War\", df.iloc[:, 0].values)\n",
    "        self.assertIn(\"Avengers: Endgame\", df.iloc[:, 0].values)\n",
    "        self.assertIn(\"Anthony Russo\", df.iloc[:, 1].values)\n",
    "        self.assertIn(\"Joe Russo\", df.iloc[:, 1].values)\n",
    "    def test_1007(self):\n",
    "        df = pd.read_sql(answer_1007, conn)\n",
    "        self.assertEqual(df.shape, (15, 3))\n",
    "        self.assertIn(\"Christopher Nolan\", df.iloc[:, 0].values)\n",
    "        self.assertIn(\"Steven Spielberg\", df.iloc[:, 0].values)\n",
    "        self.assertIn(\"The Dark Knight\", df.iloc[:, 1].values)\n",
    "        self.assertIn(\"Jurassic Park\", df.iloc[:, 1].values)\n",
    "        self.assertIn(\"PG-13\", df.iloc[:, 2].values)\n",
    "        self.assertIn(\"R\", df.iloc[:, 2].values)\n",
    "        self.assertIn(\"PG\", df.iloc[:, 2].values)\n",
    "    def test_1008(self):\n",
    "        df = pd.read_sql(answer_1008, conn)\n",
    "        self.assertEqual(df.shape, (7, 3))\n",
    "        self.assertIn(\"The Lord of the Rings: The Fellowship of the Ring\", df.iloc[:, 0].values)\n",
    "        self.assertIn(\"The Lord of the Rings: The Two Towers\", df.iloc[:, 0].values)\n",
    "        self.assertIn(\"The Lord of the Rings: The Return of the King\", df.iloc[:, 0].values)\n",
    "        self.assertIn(\"Taiwan\", df.iloc[:, 1].values)\n",
    "        self.assertIn(\"2021-04-29\", df.iloc[:, 2].astype(str).values)\n",
    "    def test_1009(self):\n",
    "        df = pd.read_sql(answer_1009, conn)\n",
    "        self.assertEqual(df.shape, (1, 6))\n",
    "        self.assertIn(\"Taiwan\", df.iloc[0, :].astype(str).values)\n",
    "        self.assertIn(\"TW\", df.iloc[0, :].astype(str).values)\n",
    "        self.assertIn(\"TWN\", df.iloc[0, :].astype(str).values)\n",
    "        self.assertIn(\"2023-03-09\", df.iloc[0, :].astype(str).values)\n",
    "    def test_1010(self):\n",
    "        df = pd.read_sql(answer_1010, conn)\n",
    "        self.assertEqual(df.shape, (13, 6))\n",
    "        self.assertIn(\"US\", df.iloc[:, 0].values)\n",
    "        self.assertIn(\"Japan\", df.iloc[:, 0].values)\n",
    "        self.assertIn(\"US\", df.iloc[:, 1].values)\n",
    "        self.assertIn(\"JP\", df.iloc[:, 1].values)\n",
    "        self.assertIn(\"USA\", df.iloc[:, 2].values)\n",
    "        self.assertIn(\"JPN\", df.iloc[:, 2].values)\n",
    "        self.assertIn(\"2023-03-09\", df.iloc[:, 5].astype(str).values)\n",
    "        \n",
    "suite = unittest.TestLoader().loadTestsFromTestCase(TestChapter10)\n",
    "runner = unittest.TextTestRunner(verbosity=2)\n",
    "test_results = runner.run(suite)\n",
    "number_of_failures = len(test_results.failures)\n",
    "number_of_errors = len(test_results.errors)\n",
    "number_of_test_runs = test_results.testsRun\n",
    "number_of_successes = number_of_test_runs - (number_of_failures + number_of_errors)\n",
    "chapter_index = 10\n",
    "chapter_name = \"關聯資料表\""
   ]
  },
  {
   "cell_type": "code",
   "execution_count": null,
   "metadata": {
    "deletable": false
   },
   "outputs": [],
   "source": [
    "print(f\"您在第 {chapter_index:02} 章「{chapter_name}」的 {number_of_test_runs} 道練習中答對了 {number_of_successes} 題。\")"
   ]
  }
 ],
 "metadata": {
  "celltoolbar": "Edit Metadata",
  "kernelspec": {
   "display_name": "Python 3 (ipykernel)",
   "language": "python",
   "name": "python3"
  },
  "language_info": {
   "codemirror_mode": {
    "name": "ipython",
    "version": 3
   },
   "file_extension": ".py",
   "mimetype": "text/x-python",
   "name": "python",
   "nbconvert_exporter": "python",
   "pygments_lexer": "ipython3",
   "version": "3.12.7"
  }
 },
 "nbformat": 4,
 "nbformat_minor": 4
}
