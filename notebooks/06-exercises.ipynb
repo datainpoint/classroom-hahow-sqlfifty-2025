{
 "cells": [
  {
   "cell_type": "markdown",
   "metadata": {
    "deletable": false
   },
   "source": [
    "# SQL 的五十道練習\n",
    "\n",
    "> 篩選資料\n",
    "\n",
    "[郭耀仁](https://hahow.in/@tonykuoyj) |  <yaojenkuo@datainpoint.com>"
   ]
  },
  {
   "cell_type": "markdown",
   "metadata": {
    "deletable": false
   },
   "source": [
    "## 練習題指引\n",
    "\n",
    "- 開始寫作之前，可以先按上方「Copy to Drive」按鈕將筆記本複製到自己的 Google 雲端硬碟。\n",
    "- 練習題共分為三種：是非題、單選題以及程式題。\n",
    "- 是非題：預設答案為 `None`，若覺得敘述**不正確**，就將 `None` 改寫為 `0`，覺得敘述**正確**，就將 `None` 改寫為 `1`\n",
    "- 單選題：覺得第一個選項**正確**，就將 `None` 改寫為 `1`，覺得第二個選項**正確**，就將 `None` 改寫為 `2`，覺得第三個選項**正確**，就將 `None` 改寫 `3`，覺得第四個選項**正確**，就將 `None` 改寫 `4`\n",
    "- 程式題：\n",
    "    - 在 SQL 語法起點與 SQL 語法終點這兩列註解之間撰寫能夠得到預期結果的 SQL。\n",
    "    - 我們已經將兩個學習資料庫載入環境，SQL 可以直接指定兩個學習資料庫中的資料表，不需要額外指定資料庫。\n",
    "    - 可以先在自己電腦的 SQLiteStudio 或者 DB Browser for SQLite 寫出跟預期結果相同的 SQL 後再複製貼上到練習題。\n",
    "- 執行測試的方式為點選右上角 Connect，然後點選上方選單的 Runtime -> Restart and run all -> Yes -> Run anyway。\n",
    "- 移動到 Google Colab 的最後一個儲存格看測試結果。"
   ]
  },
  {
   "cell_type": "code",
   "execution_count": null,
   "metadata": {},
   "outputs": [],
   "source": [
    "!wget -N https://github.com/datainpoint/classroom-hahow-sqlfifty-2025/raw/refs/heads/main/covid19/covid19.db\n",
    "!wget -N https://github.com/datainpoint/classroom-hahow-sqlfifty-2025/raw/refs/heads/main/imdb/imdb.db"
   ]
  },
  {
   "cell_type": "code",
   "execution_count": null,
   "metadata": {
    "deletable": false
   },
   "outputs": [],
   "source": [
    "import sqlite3\n",
    "import unittest\n",
    "import os\n",
    "import pandas as pd\n",
    "conn = sqlite3.connect('imdb.db')\n",
    "conn.execute(\"\"\"ATTACH 'covid19.db' AS covid19\"\"\")"
   ]
  },
  {
   "cell_type": "markdown",
   "metadata": {},
   "source": [
    "## 0601（是非題）比較結果為「假」的布林，SQLite 以整數 0 表示；比較結果為「真」的布林則以整數 1 表示。"
   ]
  },
  {
   "cell_type": "code",
   "execution_count": null,
   "metadata": {},
   "outputs": [],
   "source": [
    "answer_0601 = None"
   ]
  },
  {
   "cell_type": "markdown",
   "metadata": {},
   "source": [
    "## 0602（單選題）下列敘述何者有誤？\n",
    "\n",
    "1. 萬用字元 `%` 表示任意文字，包含空字串。\n",
    "2. 萬用字元 `_` 表示剛好一個文字。\n",
    "3. 條件的聯集可以使用 `IN` 運算符。\n",
    "4. `NULL` 未定義值、遺漏值（或稱空值）可以用 `=` 或 `!=` 進行判斷。"
   ]
  },
  {
   "cell_type": "code",
   "execution_count": null,
   "metadata": {},
   "outputs": [],
   "source": [
    "answer_0602 = None"
   ]
  },
  {
   "cell_type": "markdown",
   "metadata": {},
   "source": [
    "## 0603（程式題）從 `imdb` 資料庫的 `movies` 資料表查詢「魔戒三部曲」與「黑暗騎士三部曲」，參考下列預期的查詢結果。\n",
    "\n",
    "- 預期輸出：(6, 3) 的查詢結果。\n",
    "\n",
    "```\n",
    "id\ttitle\trating\n",
    "3\tThe Dark Knight\t9\n",
    "6\tThe Lord of the Rings: The Return of the King\t9\n",
    "9\tThe Lord of the Rings: The Fellowship of the Ring\t8.9\n",
    "12\tThe Lord of the Rings: The Two Towers\t8.8\n",
    "71\tThe Dark Knight Rises\t8.4\n",
    "132\tBatman Begins\t8.2\n",
    "```"
   ]
  },
  {
   "cell_type": "code",
   "execution_count": null,
   "metadata": {},
   "outputs": [],
   "source": [
    "answer_0603 =\\\n",
    "\"\"\"\n",
    "-- SQL 語法起點\n",
    "\n",
    "-- SQL 語法終點\n",
    "\"\"\""
   ]
  },
  {
   "cell_type": "markdown",
   "metadata": {},
   "source": [
    "## 0604（程式題）從 `imdb` 資料庫的 `directors` 資料表查詢 Aamir Khan 與 Clint Eastwood，參考下列預期的查詢結果。\n",
    "\n",
    "- 預期輸出：(2, 3) 的查詢結果。\n",
    "\n",
    "```\n",
    "id\tname\turl\n",
    "1\tAamir Khan\thttps://imdb.com/name/nm0451148\n",
    "24\tClint Eastwood\thttps://imdb.com/name/nm0000142\n",
    "```"
   ]
  },
  {
   "cell_type": "code",
   "execution_count": null,
   "metadata": {},
   "outputs": [],
   "source": [
    "answer_0604 =\\\n",
    "\"\"\"\n",
    "-- SQL 語法起點\n",
    "\n",
    "-- SQL 語法終點\n",
    "\"\"\""
   ]
  },
  {
   "cell_type": "markdown",
   "metadata": {},
   "source": [
    "## 0605（程式題）從 `imdb` 資料庫的 `actors` 資料表查詢 Aamir Khan 與 Clint Eastwood，參考下列預期的查詢結果。\n",
    "\n",
    "- 預期輸出：(2, 3) 的查詢結果。\n",
    "\n",
    "```\n",
    "id\tname\turl\n",
    "5\tAamir Khan\thttps://imdb.com/name/nm0451148\n",
    "1694\tClint Eastwood\thttps://imdb.com/name/nm0000142\n",
    "```"
   ]
  },
  {
   "cell_type": "code",
   "execution_count": null,
   "metadata": {},
   "outputs": [],
   "source": [
    "answer_0605 =\\\n",
    "\"\"\"\n",
    "-- SQL 語法起點\n",
    "\n",
    "-- SQL 語法終點\n",
    "\"\"\""
   ]
  },
  {
   "cell_type": "markdown",
   "metadata": {},
   "source": [
    "## 0606（程式題）從 `covid19` 資料庫的 `iso_codes` 資料表查詢台灣的觀測值，參考下列預期的查詢結果。\n",
    "\n",
    "- 預期輸出：(1, 3) 的查詢結果。\n",
    "\n",
    "```\n",
    "id\tiso2\tiso3\n",
    "216\tTW\tTWN\n",
    "```"
   ]
  },
  {
   "cell_type": "code",
   "execution_count": null,
   "metadata": {},
   "outputs": [],
   "source": [
    "answer_0606 =\\\n",
    "\"\"\"\n",
    "-- SQL 語法起點\n",
    "\n",
    "-- SQL 語法終點\n",
    "\"\"\""
   ]
  },
  {
   "cell_type": "markdown",
   "metadata": {},
   "source": [
    "## 0607（程式題）從 `covid19` 資料庫的 `geographics` 資料表查詢 `country_region` 名稱有 land 的國家，參考下列的預期查詢結果。\n",
    "\n",
    "- 預期輸出：(10, 1) 的查詢結果。\n",
    "\n",
    "```\n",
    "country_region\n",
    "Netherlands\n",
    "Switzerland\n",
    "New Zealand\n",
    "Finland\n",
    "Ireland\n",
    "Iceland\n",
    "Marshall Islands\n",
    "Poland\n",
    "Solomon Islands\n",
    "Thailand\n",
    "```"
   ]
  },
  {
   "cell_type": "code",
   "execution_count": null,
   "metadata": {},
   "outputs": [],
   "source": [
    "answer_0607 =\\\n",
    "\"\"\"\n",
    "-- SQL 語法起點\n",
    "\n",
    "-- SQL 語法終點\n",
    "\"\"\""
   ]
  },
  {
   "cell_type": "markdown",
   "metadata": {
    "deletable": false
   },
   "source": [
    "## 執行測試！\n",
    "\n",
    "點選右上角 Connect，然後點選上方選單的 Runtime -> Restart and run all -> Yes -> Run anyway。"
   ]
  },
  {
   "cell_type": "code",
   "execution_count": null,
   "metadata": {
    "deletable": false
   },
   "outputs": [],
   "source": [
    "class TestChapter06(unittest.TestCase):\n",
    "    def test_0601(self):\n",
    "        self.assertEqual(answer_0601, 1)\n",
    "    def test_0602(self):\n",
    "        self.assertEqual(answer_0602, 4)\n",
    "    def test_0603(self):\n",
    "        df = pd.read_sql(answer_0603, conn)\n",
    "        self.assertEqual(df.shape, (6, 3))\n",
    "        self.assertIn(\"3\", df.iloc[:, 0].astype(str).values)\n",
    "        self.assertIn(\"6\", df.iloc[:, 0].astype(str).values)\n",
    "        self.assertIn(\"9\", df.iloc[:, 0].astype(str).values)\n",
    "        self.assertIn(\"12\", df.iloc[:, 0].astype(str).values)\n",
    "        self.assertIn(\"71\", df.iloc[:, 0].astype(str).values)\n",
    "        self.assertIn(\"132\", df.iloc[:, 0].astype(str).values)\n",
    "    def test_0604(self):\n",
    "        df = pd.read_sql(answer_0604, conn)\n",
    "        self.assertEqual(df.shape, (2, 3))\n",
    "        self.assertIn(\"1\", df.iloc[:, 0].astype(str).values)\n",
    "        self.assertIn(\"24\", df.iloc[:, 0].astype(str).values)\n",
    "    def test_0605(self):\n",
    "        df = pd.read_sql(answer_0605, conn)\n",
    "        self.assertEqual(df.shape, (2, 3))\n",
    "        self.assertEqual(df.shape, (2, 3))\n",
    "        self.assertIn(\"5\", df.iloc[:, 0].astype(str).values)\n",
    "        self.assertIn(\"1694\", df.iloc[:, 0].astype(str).values)\n",
    "    def test_0606(self):\n",
    "        df = pd.read_sql(answer_0606, conn)\n",
    "        self.assertEqual(df.shape, (1, 3))\n",
    "        self.assertIn(\"TW\", df.iloc[0, :].astype(str).values)\n",
    "        self.assertIn(\"TWN\", df.iloc[0, :].astype(str).values)\n",
    "    def test_0607(self):\n",
    "        df = pd.read_sql(answer_0607, conn)\n",
    "        self.assertEqual(df.shape, (10, 1))\n",
    "        self.assertIn(\"Ireland\", df.iloc[:, 0].astype(str).values)\n",
    "        self.assertIn(\"Iceland\", df.iloc[:, 0].astype(str).values)\n",
    "        self.assertIn(\"Finland\", df.iloc[:, 0].astype(str).values)\n",
    "        self.assertIn(\"Poland\", df.iloc[:, 0].astype(str).values)\n",
    "\n",
    "suite = unittest.TestLoader().loadTestsFromTestCase(TestChapter06)\n",
    "runner = unittest.TextTestRunner(verbosity=2)\n",
    "test_results = runner.run(suite)\n",
    "number_of_failures = len(test_results.failures)\n",
    "number_of_errors = len(test_results.errors)\n",
    "number_of_test_runs = test_results.testsRun\n",
    "number_of_successes = number_of_test_runs - (number_of_failures + number_of_errors)\n",
    "chapter_index = 6\n",
    "chapter_name = \"篩選資料\""
   ]
  },
  {
   "cell_type": "code",
   "execution_count": null,
   "metadata": {
    "deletable": false
   },
   "outputs": [],
   "source": [
    "print(f\"您在第 {chapter_index:02} 章「{chapter_name}」的 {number_of_test_runs} 道練習中答對了 {number_of_successes} 題。\")"
   ]
  }
 ],
 "metadata": {
  "celltoolbar": "Edit Metadata",
  "kernelspec": {
   "display_name": "Python 3 (ipykernel)",
   "language": "python",
   "name": "python3"
  },
  "language_info": {
   "codemirror_mode": {
    "name": "ipython",
    "version": 3
   },
   "file_extension": ".py",
   "mimetype": "text/x-python",
   "name": "python",
   "nbconvert_exporter": "python",
   "pygments_lexer": "ipython3",
   "version": "3.12.7"
  }
 },
 "nbformat": 4,
 "nbformat_minor": 4
}
